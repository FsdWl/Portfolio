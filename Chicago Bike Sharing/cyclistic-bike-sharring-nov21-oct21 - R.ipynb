{
 "cells": [
  {
   "cell_type": "markdown",
   "id": "e434dfb7",
   "metadata": {
    "papermill": {
     "duration": 0.050315,
     "end_time": "2021-12-11T16:40:14.844045",
     "exception": false,
     "start_time": "2021-12-11T16:40:14.793730",
     "status": "completed"
    },
    "tags": []
   },
   "source": [
    "### ***Task:  How do annual members and casual riders use Cyclistic bikes differently?***"
   ]
  },
  {
   "cell_type": "markdown",
   "id": "a426f975",
   "metadata": {
    "papermill": {
     "duration": 0.046191,
     "end_time": "2021-12-11T16:40:14.939902",
     "exception": false,
     "start_time": "2021-12-11T16:40:14.893711",
     "status": "completed"
    },
    "tags": []
   },
   "source": [
    "#### Initial data preparation and clean up has been done in SQL - please see [My Github](https://github.com/FsdWl/Portfolio/blob/bac208b3795951b575b8a88e560637971cb30a15/Chicago%20Bike%20Sharing/SQL%20data%20preparation)"
   ]
  },
  {
   "cell_type": "code",
   "execution_count": 1,
   "id": "f44ec230",
   "metadata": {
    "execution": {
     "iopub.execute_input": "2021-12-11T16:40:15.040474Z",
     "iopub.status.busy": "2021-12-11T16:40:15.036430Z",
     "iopub.status.idle": "2021-12-11T16:40:20.262148Z",
     "shell.execute_reply": "2021-12-11T16:40:20.260623Z"
    },
    "papermill": {
     "duration": 5.277641,
     "end_time": "2021-12-11T16:40:20.262340",
     "exception": false,
     "start_time": "2021-12-11T16:40:14.984699",
     "status": "completed"
    },
    "tags": []
   },
   "outputs": [
    {
     "name": "stderr",
     "output_type": "stream",
     "text": [
      "── \u001b[1mAttaching packages\u001b[22m ─────────────────────────────────────── tidyverse 1.3.1 ──\n",
      "\n",
      "\u001b[32m✔\u001b[39m \u001b[34mggplot2\u001b[39m 3.3.5     \u001b[32m✔\u001b[39m \u001b[34mpurrr  \u001b[39m 0.3.4\n",
      "\u001b[32m✔\u001b[39m \u001b[34mtibble \u001b[39m 3.1.5     \u001b[32m✔\u001b[39m \u001b[34mdplyr  \u001b[39m 1.0.7\n",
      "\u001b[32m✔\u001b[39m \u001b[34mtidyr  \u001b[39m 1.1.4     \u001b[32m✔\u001b[39m \u001b[34mstringr\u001b[39m 1.4.0\n",
      "\u001b[32m✔\u001b[39m \u001b[34mreadr  \u001b[39m 2.0.2     \u001b[32m✔\u001b[39m \u001b[34mforcats\u001b[39m 0.5.1\n",
      "\n",
      "── \u001b[1mConflicts\u001b[22m ────────────────────────────────────────── tidyverse_conflicts() ──\n",
      "\u001b[31m✖\u001b[39m \u001b[34mdplyr\u001b[39m::\u001b[32mfilter()\u001b[39m masks \u001b[34mstats\u001b[39m::filter()\n",
      "\u001b[31m✖\u001b[39m \u001b[34mdplyr\u001b[39m::\u001b[32mlag()\u001b[39m    masks \u001b[34mstats\u001b[39m::lag()\n",
      "\n",
      "\n",
      "Attaching package: ‘janitor’\n",
      "\n",
      "\n",
      "The following objects are masked from ‘package:stats’:\n",
      "\n",
      "    chisq.test, fisher.test\n",
      "\n",
      "\n",
      "\n",
      "Attaching package: ‘lubridate’\n",
      "\n",
      "\n",
      "The following objects are masked from ‘package:base’:\n",
      "\n",
      "    date, intersect, setdiff, union\n",
      "\n",
      "\n",
      "\u001b[1m\u001b[1mRows: \u001b[1m\u001b[22m\u001b[34m\u001b[34m4989486\u001b[34m\u001b[39m \u001b[1m\u001b[1mColumns: \u001b[1m\u001b[22m\u001b[34m\u001b[34m15\u001b[34m\u001b[39m\n",
      "\n",
      "\u001b[36m──\u001b[39m \u001b[1m\u001b[1mColumn specification\u001b[1m\u001b[22m \u001b[36m────────────────────────────────────────────────────────\u001b[39m\n",
      "\u001b[1mDelimiter:\u001b[22m \",\"\n",
      "\u001b[31mchr\u001b[39m (10): ride_id, rideable_type, member_casual, day_of_week, started_at, en...\n",
      "\u001b[32mdbl\u001b[39m  (5): ride_length, start_lat, start_lng, end_lat, end_lng\n",
      "\n",
      "\n",
      "\u001b[36mℹ\u001b[39m Use \u001b[30m\u001b[47m\u001b[30m\u001b[47m`spec()`\u001b[47m\u001b[30m\u001b[49m\u001b[39m to retrieve the full column specification for this data.\n",
      "\u001b[36mℹ\u001b[39m Specify the column types or set \u001b[30m\u001b[47m\u001b[30m\u001b[47m`show_col_types = FALSE`\u001b[47m\u001b[30m\u001b[49m\u001b[39m to quiet this message.\n",
      "\n"
     ]
    }
   ],
   "source": [
    "library(tidyverse)\n",
    "library(janitor)\n",
    "library(lubridate)\n",
    "library(ggplot2)\n",
    "\n",
    "# Reading data set\n",
    "tripdata_2020_11_2021_10_clean <- read_csv(\"../input/case-study-cyclistic-bikeshare/tripdata2020_11_2021_10_clean.csv\")\n"
   ]
  },
  {
   "cell_type": "markdown",
   "id": "673d7664",
   "metadata": {
    "papermill": {
     "duration": 0.055202,
     "end_time": "2021-12-11T16:40:20.375943",
     "exception": false,
     "start_time": "2021-12-11T16:40:20.320741",
     "status": "completed"
    },
    "tags": []
   },
   "source": [
    "#### Adding day, month, year, and time into separate columns"
   ]
  },
  {
   "cell_type": "code",
   "execution_count": 2,
   "id": "1830fd49",
   "metadata": {
    "execution": {
     "iopub.execute_input": "2021-12-11T16:40:20.522967Z",
     "iopub.status.busy": "2021-12-11T16:40:20.490187Z",
     "iopub.status.idle": "2021-12-11T16:41:12.442871Z",
     "shell.execute_reply": "2021-12-11T16:41:12.441563Z"
    },
    "papermill": {
     "duration": 52.012359,
     "end_time": "2021-12-11T16:41:12.443164",
     "exception": false,
     "start_time": "2021-12-11T16:40:20.430805",
     "status": "completed"
    },
    "tags": []
   },
   "outputs": [],
   "source": [
    "tripdata_2020_11_2021_10_clean $ day <- format(as.Date(tripdata_2020_11_2021_10_clean $ started_at),\"%d\")\n",
    "tripdata_2020_11_2021_10_clean $ month <- format(as.Date(tripdata_2020_11_2021_10_clean $ started_at),\"%b\")\n",
    "tripdata_2020_11_2021_10_clean $ year <- format(as.Date(tripdata_2020_11_2021_10_clean $ started_at),\"%Y\")\n",
    "tripdata_2020_11_2021_10_clean $ hour <- substr(tripdata_2020_11_2021_10_clean $ started_at, 12,13)\n"
   ]
  },
  {
   "cell_type": "markdown",
   "id": "38c9953e",
   "metadata": {
    "papermill": {
     "duration": 0.055323,
     "end_time": "2021-12-11T16:41:12.555625",
     "exception": false,
     "start_time": "2021-12-11T16:41:12.500302",
     "status": "completed"
    },
    "tags": []
   },
   "source": [
    "#### Data preview"
   ]
  },
  {
   "cell_type": "code",
   "execution_count": 3,
   "id": "2e5473e2",
   "metadata": {
    "execution": {
     "iopub.execute_input": "2021-12-11T16:41:12.673300Z",
     "iopub.status.busy": "2021-12-11T16:41:12.672594Z",
     "iopub.status.idle": "2021-12-11T16:41:12.717159Z",
     "shell.execute_reply": "2021-12-11T16:41:12.715673Z"
    },
    "papermill": {
     "duration": 0.106127,
     "end_time": "2021-12-11T16:41:12.717330",
     "exception": false,
     "start_time": "2021-12-11T16:41:12.611203",
     "status": "completed"
    },
    "tags": []
   },
   "outputs": [
    {
     "data": {
      "text/html": [
       "<table class=\"dataframe\">\n",
       "<caption>A tibble: 6 × 19</caption>\n",
       "<thead>\n",
       "\t<tr><th scope=col>ride_id</th><th scope=col>rideable_type</th><th scope=col>member_casual</th><th scope=col>day_of_week</th><th scope=col>started_at</th><th scope=col>ended_at</th><th scope=col>ride_length</th><th scope=col>start_station_name</th><th scope=col>start_station_id</th><th scope=col>end_station_name</th><th scope=col>end_station_id</th><th scope=col>start_lat</th><th scope=col>start_lng</th><th scope=col>end_lat</th><th scope=col>end_lng</th><th scope=col>day</th><th scope=col>month</th><th scope=col>year</th><th scope=col>hour</th></tr>\n",
       "\t<tr><th scope=col>&lt;chr&gt;</th><th scope=col>&lt;chr&gt;</th><th scope=col>&lt;chr&gt;</th><th scope=col>&lt;chr&gt;</th><th scope=col>&lt;chr&gt;</th><th scope=col>&lt;chr&gt;</th><th scope=col>&lt;dbl&gt;</th><th scope=col>&lt;chr&gt;</th><th scope=col>&lt;chr&gt;</th><th scope=col>&lt;chr&gt;</th><th scope=col>&lt;chr&gt;</th><th scope=col>&lt;dbl&gt;</th><th scope=col>&lt;dbl&gt;</th><th scope=col>&lt;dbl&gt;</th><th scope=col>&lt;dbl&gt;</th><th scope=col>&lt;chr&gt;</th><th scope=col>&lt;chr&gt;</th><th scope=col>&lt;chr&gt;</th><th scope=col>&lt;chr&gt;</th></tr>\n",
       "</thead>\n",
       "<tbody>\n",
       "\t<tr><td>0C07A9CB76052959</td><td><span style=white-space:pre-wrap>docked_bike  </span></td><td>casual</td><td>Saturday </td><td>2020-11-14 11:31:42 UTC</td><td>2020-11-14 11:47:42 UTC</td><td>16</td><td>Halsted St &amp; Clybourn Ave</td><td>331</td><td>Halsted St &amp; Clybourn Ave</td><td>331</td><td>41.90967</td><td>-87.64813</td><td>41.90967</td><td>-87.64813</td><td>14</td><td>Nov</td><td>2020</td><td>11</td></tr>\n",
       "\t<tr><td>E0651AC2E45767C7</td><td><span style=white-space:pre-wrap>docked_bike  </span></td><td>casual</td><td><span style=white-space:pre-wrap>Friday   </span></td><td>2020-11-06 20:13:44 UTC</td><td>2020-11-06 20:32:14 UTC</td><td>19</td><td>Halsted St &amp; Clybourn Ave</td><td>331</td><td>Halsted St &amp; Clybourn Ave</td><td>331</td><td>41.90967</td><td>-87.64813</td><td>41.90967</td><td>-87.64813</td><td>06</td><td>Nov</td><td>2020</td><td>20</td></tr>\n",
       "\t<tr><td>DE433CF581568F79</td><td><span style=white-space:pre-wrap>docked_bike  </span></td><td>member</td><td><span style=white-space:pre-wrap>Friday   </span></td><td>2020-11-06 12:49:33 UTC</td><td>2020-11-06 12:56:32 UTC</td><td> 7</td><td>Halsted St &amp; Clybourn Ave</td><td>331</td><td>Halsted St &amp; Clybourn Ave</td><td>331</td><td>41.90967</td><td>-87.64813</td><td>41.90967</td><td>-87.64813</td><td>06</td><td>Nov</td><td>2020</td><td>12</td></tr>\n",
       "\t<tr><td>7F9FD92D71F3D5A9</td><td><span style=white-space:pre-wrap>docked_bike  </span></td><td>casual</td><td><span style=white-space:pre-wrap>Monday   </span></td><td>2020-11-09 15:00:00 UTC</td><td>2020-11-09 16:26:48 UTC</td><td>86</td><td>Halsted St &amp; Clybourn Ave</td><td>331</td><td>Halsted St &amp; Clybourn Ave</td><td>331</td><td>41.90967</td><td>-87.64813</td><td>41.90967</td><td>-87.64813</td><td>09</td><td>Nov</td><td>2020</td><td>15</td></tr>\n",
       "\t<tr><td>D6C2A24D7C9BF84C</td><td>electric_bike</td><td>member</td><td>Wednesday</td><td>2020-11-04 16:23:43 UTC</td><td>2020-11-04 16:25:46 UTC</td><td> 2</td><td>Halsted St &amp; Clybourn Ave</td><td>331</td><td>Halsted St &amp; Clybourn Ave</td><td>331</td><td>41.90962</td><td>-87.64810</td><td>41.90962</td><td>-87.64810</td><td>04</td><td>Nov</td><td>2020</td><td>16</td></tr>\n",
       "\t<tr><td>25F266C9A4C081A1</td><td>electric_bike</td><td>member</td><td><span style=white-space:pre-wrap>Friday   </span></td><td>2020-11-06 21:35:14 UTC</td><td>2020-11-06 21:41:32 UTC</td><td> 6</td><td>Halsted St &amp; Clybourn Ave</td><td>331</td><td>Halsted St &amp; Clybourn Ave</td><td>331</td><td>41.90966</td><td>-87.64810</td><td>41.90962</td><td>-87.64812</td><td>06</td><td>Nov</td><td>2020</td><td>21</td></tr>\n",
       "</tbody>\n",
       "</table>\n"
      ],
      "text/latex": [
       "A tibble: 6 × 19\n",
       "\\begin{tabular}{lllllllllllllllllll}\n",
       " ride\\_id & rideable\\_type & member\\_casual & day\\_of\\_week & started\\_at & ended\\_at & ride\\_length & start\\_station\\_name & start\\_station\\_id & end\\_station\\_name & end\\_station\\_id & start\\_lat & start\\_lng & end\\_lat & end\\_lng & day & month & year & hour\\\\\n",
       " <chr> & <chr> & <chr> & <chr> & <chr> & <chr> & <dbl> & <chr> & <chr> & <chr> & <chr> & <dbl> & <dbl> & <dbl> & <dbl> & <chr> & <chr> & <chr> & <chr>\\\\\n",
       "\\hline\n",
       "\t 0C07A9CB76052959 & docked\\_bike   & casual & Saturday  & 2020-11-14 11:31:42 UTC & 2020-11-14 11:47:42 UTC & 16 & Halsted St \\& Clybourn Ave & 331 & Halsted St \\& Clybourn Ave & 331 & 41.90967 & -87.64813 & 41.90967 & -87.64813 & 14 & Nov & 2020 & 11\\\\\n",
       "\t E0651AC2E45767C7 & docked\\_bike   & casual & Friday    & 2020-11-06 20:13:44 UTC & 2020-11-06 20:32:14 UTC & 19 & Halsted St \\& Clybourn Ave & 331 & Halsted St \\& Clybourn Ave & 331 & 41.90967 & -87.64813 & 41.90967 & -87.64813 & 06 & Nov & 2020 & 20\\\\\n",
       "\t DE433CF581568F79 & docked\\_bike   & member & Friday    & 2020-11-06 12:49:33 UTC & 2020-11-06 12:56:32 UTC &  7 & Halsted St \\& Clybourn Ave & 331 & Halsted St \\& Clybourn Ave & 331 & 41.90967 & -87.64813 & 41.90967 & -87.64813 & 06 & Nov & 2020 & 12\\\\\n",
       "\t 7F9FD92D71F3D5A9 & docked\\_bike   & casual & Monday    & 2020-11-09 15:00:00 UTC & 2020-11-09 16:26:48 UTC & 86 & Halsted St \\& Clybourn Ave & 331 & Halsted St \\& Clybourn Ave & 331 & 41.90967 & -87.64813 & 41.90967 & -87.64813 & 09 & Nov & 2020 & 15\\\\\n",
       "\t D6C2A24D7C9BF84C & electric\\_bike & member & Wednesday & 2020-11-04 16:23:43 UTC & 2020-11-04 16:25:46 UTC &  2 & Halsted St \\& Clybourn Ave & 331 & Halsted St \\& Clybourn Ave & 331 & 41.90962 & -87.64810 & 41.90962 & -87.64810 & 04 & Nov & 2020 & 16\\\\\n",
       "\t 25F266C9A4C081A1 & electric\\_bike & member & Friday    & 2020-11-06 21:35:14 UTC & 2020-11-06 21:41:32 UTC &  6 & Halsted St \\& Clybourn Ave & 331 & Halsted St \\& Clybourn Ave & 331 & 41.90966 & -87.64810 & 41.90962 & -87.64812 & 06 & Nov & 2020 & 21\\\\\n",
       "\\end{tabular}\n"
      ],
      "text/markdown": [
       "\n",
       "A tibble: 6 × 19\n",
       "\n",
       "| ride_id &lt;chr&gt; | rideable_type &lt;chr&gt; | member_casual &lt;chr&gt; | day_of_week &lt;chr&gt; | started_at &lt;chr&gt; | ended_at &lt;chr&gt; | ride_length &lt;dbl&gt; | start_station_name &lt;chr&gt; | start_station_id &lt;chr&gt; | end_station_name &lt;chr&gt; | end_station_id &lt;chr&gt; | start_lat &lt;dbl&gt; | start_lng &lt;dbl&gt; | end_lat &lt;dbl&gt; | end_lng &lt;dbl&gt; | day &lt;chr&gt; | month &lt;chr&gt; | year &lt;chr&gt; | hour &lt;chr&gt; |\n",
       "|---|---|---|---|---|---|---|---|---|---|---|---|---|---|---|---|---|---|---|\n",
       "| 0C07A9CB76052959 | docked_bike   | casual | Saturday  | 2020-11-14 11:31:42 UTC | 2020-11-14 11:47:42 UTC | 16 | Halsted St &amp; Clybourn Ave | 331 | Halsted St &amp; Clybourn Ave | 331 | 41.90967 | -87.64813 | 41.90967 | -87.64813 | 14 | Nov | 2020 | 11 |\n",
       "| E0651AC2E45767C7 | docked_bike   | casual | Friday    | 2020-11-06 20:13:44 UTC | 2020-11-06 20:32:14 UTC | 19 | Halsted St &amp; Clybourn Ave | 331 | Halsted St &amp; Clybourn Ave | 331 | 41.90967 | -87.64813 | 41.90967 | -87.64813 | 06 | Nov | 2020 | 20 |\n",
       "| DE433CF581568F79 | docked_bike   | member | Friday    | 2020-11-06 12:49:33 UTC | 2020-11-06 12:56:32 UTC |  7 | Halsted St &amp; Clybourn Ave | 331 | Halsted St &amp; Clybourn Ave | 331 | 41.90967 | -87.64813 | 41.90967 | -87.64813 | 06 | Nov | 2020 | 12 |\n",
       "| 7F9FD92D71F3D5A9 | docked_bike   | casual | Monday    | 2020-11-09 15:00:00 UTC | 2020-11-09 16:26:48 UTC | 86 | Halsted St &amp; Clybourn Ave | 331 | Halsted St &amp; Clybourn Ave | 331 | 41.90967 | -87.64813 | 41.90967 | -87.64813 | 09 | Nov | 2020 | 15 |\n",
       "| D6C2A24D7C9BF84C | electric_bike | member | Wednesday | 2020-11-04 16:23:43 UTC | 2020-11-04 16:25:46 UTC |  2 | Halsted St &amp; Clybourn Ave | 331 | Halsted St &amp; Clybourn Ave | 331 | 41.90962 | -87.64810 | 41.90962 | -87.64810 | 04 | Nov | 2020 | 16 |\n",
       "| 25F266C9A4C081A1 | electric_bike | member | Friday    | 2020-11-06 21:35:14 UTC | 2020-11-06 21:41:32 UTC |  6 | Halsted St &amp; Clybourn Ave | 331 | Halsted St &amp; Clybourn Ave | 331 | 41.90966 | -87.64810 | 41.90962 | -87.64812 | 06 | Nov | 2020 | 21 |\n",
       "\n"
      ],
      "text/plain": [
       "  ride_id          rideable_type member_casual day_of_week\n",
       "1 0C07A9CB76052959 docked_bike   casual        Saturday   \n",
       "2 E0651AC2E45767C7 docked_bike   casual        Friday     \n",
       "3 DE433CF581568F79 docked_bike   member        Friday     \n",
       "4 7F9FD92D71F3D5A9 docked_bike   casual        Monday     \n",
       "5 D6C2A24D7C9BF84C electric_bike member        Wednesday  \n",
       "6 25F266C9A4C081A1 electric_bike member        Friday     \n",
       "  started_at              ended_at                ride_length\n",
       "1 2020-11-14 11:31:42 UTC 2020-11-14 11:47:42 UTC 16         \n",
       "2 2020-11-06 20:13:44 UTC 2020-11-06 20:32:14 UTC 19         \n",
       "3 2020-11-06 12:49:33 UTC 2020-11-06 12:56:32 UTC  7         \n",
       "4 2020-11-09 15:00:00 UTC 2020-11-09 16:26:48 UTC 86         \n",
       "5 2020-11-04 16:23:43 UTC 2020-11-04 16:25:46 UTC  2         \n",
       "6 2020-11-06 21:35:14 UTC 2020-11-06 21:41:32 UTC  6         \n",
       "  start_station_name        start_station_id end_station_name         \n",
       "1 Halsted St & Clybourn Ave 331              Halsted St & Clybourn Ave\n",
       "2 Halsted St & Clybourn Ave 331              Halsted St & Clybourn Ave\n",
       "3 Halsted St & Clybourn Ave 331              Halsted St & Clybourn Ave\n",
       "4 Halsted St & Clybourn Ave 331              Halsted St & Clybourn Ave\n",
       "5 Halsted St & Clybourn Ave 331              Halsted St & Clybourn Ave\n",
       "6 Halsted St & Clybourn Ave 331              Halsted St & Clybourn Ave\n",
       "  end_station_id start_lat start_lng end_lat  end_lng   day month year hour\n",
       "1 331            41.90967  -87.64813 41.90967 -87.64813 14  Nov   2020 11  \n",
       "2 331            41.90967  -87.64813 41.90967 -87.64813 06  Nov   2020 20  \n",
       "3 331            41.90967  -87.64813 41.90967 -87.64813 06  Nov   2020 12  \n",
       "4 331            41.90967  -87.64813 41.90967 -87.64813 09  Nov   2020 15  \n",
       "5 331            41.90962  -87.64810 41.90962 -87.64810 04  Nov   2020 16  \n",
       "6 331            41.90966  -87.64810 41.90962 -87.64812 06  Nov   2020 21  "
      ]
     },
     "metadata": {},
     "output_type": "display_data"
    },
    {
     "data": {
      "text/html": [
       "4989486"
      ],
      "text/latex": [
       "4989486"
      ],
      "text/markdown": [
       "4989486"
      ],
      "text/plain": [
       "[1] 4989486"
      ]
     },
     "metadata": {},
     "output_type": "display_data"
    }
   ],
   "source": [
    "head(tripdata_2020_11_2021_10_clean)\n",
    "nrow(tripdata_2020_11_2021_10_clean)"
   ]
  },
  {
   "cell_type": "markdown",
   "id": "20dde58b",
   "metadata": {
    "papermill": {
     "duration": 0.061484,
     "end_time": "2021-12-11T16:41:12.839964",
     "exception": false,
     "start_time": "2021-12-11T16:41:12.778480",
     "status": "completed"
    },
    "tags": []
   },
   "source": [
    "#### Analysis on ride_length (all figures in minutes)"
   ]
  },
  {
   "cell_type": "markdown",
   "id": "e9dce8f1",
   "metadata": {
    "papermill": {
     "duration": 0.061221,
     "end_time": "2021-12-11T16:41:12.961442",
     "exception": false,
     "start_time": "2021-12-11T16:41:12.900221",
     "status": "completed"
    },
    "tags": []
   },
   "source": [
    "##### Data summary \n",
    "Since we have cleaned the data in SQL before hand - removing 0 and negative ride length, as well as ride length > 1 day (1440 minutes) - min and max ride length are within out parameters. While average ride length is just over 20 minutes.\n"
   ]
  },
  {
   "cell_type": "code",
   "execution_count": 4,
   "id": "3424af32",
   "metadata": {
    "execution": {
     "iopub.execute_input": "2021-12-11T16:41:13.091926Z",
     "iopub.status.busy": "2021-12-11T16:41:13.089827Z",
     "iopub.status.idle": "2021-12-11T16:41:16.575348Z",
     "shell.execute_reply": "2021-12-11T16:41:16.574098Z"
    },
    "papermill": {
     "duration": 3.552997,
     "end_time": "2021-12-11T16:41:16.575487",
     "exception": false,
     "start_time": "2021-12-11T16:41:13.022490",
     "status": "completed"
    },
    "tags": []
   },
   "outputs": [
    {
     "data": {
      "text/plain": [
       "   Min. 1st Qu.  Median    Mean 3rd Qu.    Max. \n",
       "   1.00    7.00   13.00   20.45   23.00 1439.00 "
      ]
     },
     "metadata": {},
     "output_type": "display_data"
    }
   ],
   "source": [
    "summary(tripdata_2020_11_2021_10_clean $ ride_length)"
   ]
  },
  {
   "cell_type": "markdown",
   "id": "7b3ba67f",
   "metadata": {
    "papermill": {
     "duration": 0.064403,
     "end_time": "2021-12-11T16:41:16.704168",
     "exception": false,
     "start_time": "2021-12-11T16:41:16.639765",
     "status": "completed"
    },
    "tags": []
   },
   "source": [
    "##### Comparing mean ride_length between member and ride type"
   ]
  },
  {
   "cell_type": "markdown",
   "id": "9170dbf7",
   "metadata": {
    "papermill": {
     "duration": 0.064575,
     "end_time": "2021-12-11T16:41:16.830719",
     "exception": false,
     "start_time": "2021-12-11T16:41:16.766144",
     "status": "completed"
    },
    "tags": []
   },
   "source": [
    "Casual users actually ride longer than members. "
   ]
  },
  {
   "cell_type": "code",
   "execution_count": 5,
   "id": "d42eed0c",
   "metadata": {
    "execution": {
     "iopub.execute_input": "2021-12-11T16:41:16.961707Z",
     "iopub.status.busy": "2021-12-11T16:41:16.960120Z",
     "iopub.status.idle": "2021-12-11T16:41:19.770705Z",
     "shell.execute_reply": "2021-12-11T16:41:19.769155Z"
    },
    "papermill": {
     "duration": 2.877675,
     "end_time": "2021-12-11T16:41:19.770844",
     "exception": false,
     "start_time": "2021-12-11T16:41:16.893169",
     "status": "completed"
    },
    "tags": []
   },
   "outputs": [
    {
     "data": {
      "text/html": [
       "<table class=\"dataframe\">\n",
       "<caption>A tibble: 2 × 2</caption>\n",
       "<thead>\n",
       "\t<tr><th scope=col>member_casual</th><th scope=col>mean(ride_length)</th></tr>\n",
       "\t<tr><th scope=col>&lt;chr&gt;</th><th scope=col>&lt;dbl&gt;</th></tr>\n",
       "</thead>\n",
       "<tbody>\n",
       "\t<tr><td>casual</td><td>28.50883</td></tr>\n",
       "\t<tr><td>member</td><td>13.58174</td></tr>\n",
       "</tbody>\n",
       "</table>\n"
      ],
      "text/latex": [
       "A tibble: 2 × 2\n",
       "\\begin{tabular}{ll}\n",
       " member\\_casual & mean(ride\\_length)\\\\\n",
       " <chr> & <dbl>\\\\\n",
       "\\hline\n",
       "\t casual & 28.50883\\\\\n",
       "\t member & 13.58174\\\\\n",
       "\\end{tabular}\n"
      ],
      "text/markdown": [
       "\n",
       "A tibble: 2 × 2\n",
       "\n",
       "| member_casual &lt;chr&gt; | mean(ride_length) &lt;dbl&gt; |\n",
       "|---|---|\n",
       "| casual | 28.50883 |\n",
       "| member | 13.58174 |\n",
       "\n"
      ],
      "text/plain": [
       "  member_casual mean(ride_length)\n",
       "1 casual        28.50883         \n",
       "2 member        13.58174         "
      ]
     },
     "metadata": {},
     "output_type": "display_data"
    }
   ],
   "source": [
    "tripdata_2020_11_2021_10_clean %>% \n",
    "  group_by(member_casual) %>% \n",
    "  summarize(mean(ride_length)) %>% \n",
    "  arrange(member_casual)"
   ]
  },
  {
   "cell_type": "markdown",
   "id": "65b0c134",
   "metadata": {
    "papermill": {
     "duration": 0.066257,
     "end_time": "2021-12-11T16:41:19.902265",
     "exception": false,
     "start_time": "2021-12-11T16:41:19.836008",
     "status": "completed"
    },
    "tags": []
   },
   "source": [
    "Docked bikes seem to be the most popular type in general. "
   ]
  },
  {
   "cell_type": "code",
   "execution_count": 6,
   "id": "af6d8809",
   "metadata": {
    "execution": {
     "iopub.execute_input": "2021-12-11T16:41:20.039392Z",
     "iopub.status.busy": "2021-12-11T16:41:20.037713Z",
     "iopub.status.idle": "2021-12-11T16:41:22.591133Z",
     "shell.execute_reply": "2021-12-11T16:41:22.589593Z"
    },
    "papermill": {
     "duration": 2.622884,
     "end_time": "2021-12-11T16:41:22.591320",
     "exception": false,
     "start_time": "2021-12-11T16:41:19.968436",
     "status": "completed"
    },
    "tags": []
   },
   "outputs": [
    {
     "data": {
      "text/html": [
       "<table class=\"dataframe\">\n",
       "<caption>A tibble: 3 × 2</caption>\n",
       "<thead>\n",
       "\t<tr><th scope=col>rideable_type</th><th scope=col>mean(ride_length)</th></tr>\n",
       "\t<tr><th scope=col>&lt;chr&gt;</th><th scope=col>&lt;dbl&gt;</th></tr>\n",
       "</thead>\n",
       "<tbody>\n",
       "\t<tr><td>classic_bike </td><td>18.80412</td></tr>\n",
       "\t<tr><td>docked_bike  </td><td>40.60152</td></tr>\n",
       "\t<tr><td>electric_bike</td><td>16.43211</td></tr>\n",
       "</tbody>\n",
       "</table>\n"
      ],
      "text/latex": [
       "A tibble: 3 × 2\n",
       "\\begin{tabular}{ll}\n",
       " rideable\\_type & mean(ride\\_length)\\\\\n",
       " <chr> & <dbl>\\\\\n",
       "\\hline\n",
       "\t classic\\_bike  & 18.80412\\\\\n",
       "\t docked\\_bike   & 40.60152\\\\\n",
       "\t electric\\_bike & 16.43211\\\\\n",
       "\\end{tabular}\n"
      ],
      "text/markdown": [
       "\n",
       "A tibble: 3 × 2\n",
       "\n",
       "| rideable_type &lt;chr&gt; | mean(ride_length) &lt;dbl&gt; |\n",
       "|---|---|\n",
       "| classic_bike  | 18.80412 |\n",
       "| docked_bike   | 40.60152 |\n",
       "| electric_bike | 16.43211 |\n",
       "\n"
      ],
      "text/plain": [
       "  rideable_type mean(ride_length)\n",
       "1 classic_bike  18.80412         \n",
       "2 docked_bike   40.60152         \n",
       "3 electric_bike 16.43211         "
      ]
     },
     "metadata": {},
     "output_type": "display_data"
    }
   ],
   "source": [
    "tripdata_2020_11_2021_10_clean %>% \n",
    "  group_by(rideable_type) %>% \n",
    "  summarize(mean(ride_length)) %>% \n",
    "  arrange(rideable_type)"
   ]
  },
  {
   "cell_type": "markdown",
   "id": "e05d4266",
   "metadata": {
    "papermill": {
     "duration": 0.06739,
     "end_time": "2021-12-11T16:41:22.727849",
     "exception": false,
     "start_time": "2021-12-11T16:41:22.660459",
     "status": "completed"
    },
    "tags": []
   },
   "source": [
    "However, docked bikes are only popular among casual riders, while members seem to have no preferences. "
   ]
  },
  {
   "cell_type": "code",
   "execution_count": 7,
   "id": "f9509a55",
   "metadata": {
    "execution": {
     "iopub.execute_input": "2021-12-11T16:41:22.870055Z",
     "iopub.status.busy": "2021-12-11T16:41:22.867996Z",
     "iopub.status.idle": "2021-12-11T16:41:25.241681Z",
     "shell.execute_reply": "2021-12-11T16:41:25.240289Z"
    },
    "papermill": {
     "duration": 2.446017,
     "end_time": "2021-12-11T16:41:25.241821",
     "exception": false,
     "start_time": "2021-12-11T16:41:22.795804",
     "status": "completed"
    },
    "tags": []
   },
   "outputs": [
    {
     "name": "stderr",
     "output_type": "stream",
     "text": [
      "`summarise()` has grouped output by 'rideable_type'. You can override using the `.groups` argument.\n",
      "\n"
     ]
    },
    {
     "data": {
      "text/html": [
       "<table class=\"dataframe\">\n",
       "<caption>A grouped_df: 6 × 3</caption>\n",
       "<thead>\n",
       "\t<tr><th scope=col>rideable_type</th><th scope=col>member_casual</th><th scope=col>mean(ride_length)</th></tr>\n",
       "\t<tr><th scope=col>&lt;chr&gt;</th><th scope=col>&lt;chr&gt;</th><th scope=col>&lt;dbl&gt;</th></tr>\n",
       "</thead>\n",
       "<tbody>\n",
       "\t<tr><td>classic_bike </td><td>casual</td><td>26.01195</td></tr>\n",
       "\t<tr><td>docked_bike  </td><td>casual</td><td>48.42535</td></tr>\n",
       "\t<tr><td>electric_bike</td><td>casual</td><td>20.56288</td></tr>\n",
       "\t<tr><td>classic_bike </td><td>member</td><td>13.83672</td></tr>\n",
       "\t<tr><td>docked_bike  </td><td>member</td><td>13.87479</td></tr>\n",
       "\t<tr><td>electric_bike</td><td>member</td><td>12.58421</td></tr>\n",
       "</tbody>\n",
       "</table>\n"
      ],
      "text/latex": [
       "A grouped\\_df: 6 × 3\n",
       "\\begin{tabular}{lll}\n",
       " rideable\\_type & member\\_casual & mean(ride\\_length)\\\\\n",
       " <chr> & <chr> & <dbl>\\\\\n",
       "\\hline\n",
       "\t classic\\_bike  & casual & 26.01195\\\\\n",
       "\t docked\\_bike   & casual & 48.42535\\\\\n",
       "\t electric\\_bike & casual & 20.56288\\\\\n",
       "\t classic\\_bike  & member & 13.83672\\\\\n",
       "\t docked\\_bike   & member & 13.87479\\\\\n",
       "\t electric\\_bike & member & 12.58421\\\\\n",
       "\\end{tabular}\n"
      ],
      "text/markdown": [
       "\n",
       "A grouped_df: 6 × 3\n",
       "\n",
       "| rideable_type &lt;chr&gt; | member_casual &lt;chr&gt; | mean(ride_length) &lt;dbl&gt; |\n",
       "|---|---|---|\n",
       "| classic_bike  | casual | 26.01195 |\n",
       "| docked_bike   | casual | 48.42535 |\n",
       "| electric_bike | casual | 20.56288 |\n",
       "| classic_bike  | member | 13.83672 |\n",
       "| docked_bike   | member | 13.87479 |\n",
       "| electric_bike | member | 12.58421 |\n",
       "\n"
      ],
      "text/plain": [
       "  rideable_type member_casual mean(ride_length)\n",
       "1 classic_bike  casual        26.01195         \n",
       "2 docked_bike   casual        48.42535         \n",
       "3 electric_bike casual        20.56288         \n",
       "4 classic_bike  member        13.83672         \n",
       "5 docked_bike   member        13.87479         \n",
       "6 electric_bike member        12.58421         "
      ]
     },
     "metadata": {},
     "output_type": "display_data"
    }
   ],
   "source": [
    "tripdata_2020_11_2021_10_clean %>% \n",
    "  group_by(rideable_type, member_casual) %>% \n",
    "  summarize(mean(ride_length)) %>% \n",
    "  arrange(member_casual, rideable_type)"
   ]
  },
  {
   "cell_type": "markdown",
   "id": "2df73616",
   "metadata": {
    "papermill": {
     "duration": 0.071695,
     "end_time": "2021-12-11T16:41:25.386445",
     "exception": false,
     "start_time": "2021-12-11T16:41:25.314750",
     "status": "completed"
    },
    "tags": []
   },
   "source": [
    "##### Usage behaviour breakdown per day\n",
    "\n",
    "For casual riders, largest number of total usage during weekends, and longer ride time as well.\n",
    "\n",
    "In contrast members usage actually higher during mid week, and lower during weekends, although average ride time is higher during the weekends. \n",
    "\n"
   ]
  },
  {
   "cell_type": "code",
   "execution_count": 8,
   "id": "51ddfda7",
   "metadata": {
    "execution": {
     "iopub.execute_input": "2021-12-11T16:41:25.534189Z",
     "iopub.status.busy": "2021-12-11T16:41:25.532595Z",
     "iopub.status.idle": "2021-12-11T16:41:37.867207Z",
     "shell.execute_reply": "2021-12-11T16:41:37.865917Z"
    },
    "papermill": {
     "duration": 12.409727,
     "end_time": "2021-12-11T16:41:37.867370",
     "exception": false,
     "start_time": "2021-12-11T16:41:25.457643",
     "status": "completed"
    },
    "tags": []
   },
   "outputs": [
    {
     "name": "stderr",
     "output_type": "stream",
     "text": [
      "`summarise()` has grouped output by 'member_casual', 'day_of_week'. You can override using the `.groups` argument.\n",
      "\n"
     ]
    },
    {
     "data": {
      "image/png": "[encoded data removed]"
     },
     "metadata": {
      "image/png": {
       "height": 420,
       "width": 420
      }
     },
     "output_type": "display_data"
    },
    {
     "data": {
      "image/png": "[encoded data removed]"
     },
     "metadata": {
      "image/png": {
       "height": 420,
       "width": 420
      }
     },
     "output_type": "display_data"
    }
   ],
   "source": [
    "# giving orders/ levels to days of the week so that they shows in the correct order, i.e. Sunday to Saturday\n",
    "tripdata_2020_11_2021_10_clean $ day_of_week <- ordered(tripdata_2020_11_2021_10_clean $ day_of_week, levels = c(\"Sunday\", \"Monday\", \"Tuesday\", \"Wednesday\", \"Thursday\", \"Friday\", \"Saturday\"))\n",
    "\n",
    "# plotting the daily total usage difference of member vs. casual \n",
    "ggplot(data = tripdata_2020_11_2021_10_clean) + \n",
    "  geom_bar(mapping = aes(x = day_of_week, fill = rideable_type)) +\n",
    "  facet_wrap(~member_casual) +\n",
    "  labs(title = \"Day usage comparison\")\n",
    "\n",
    "# See the average ride time by each weekday for members vs casual users\n",
    "weekday_tripdata <- tripdata_2020_11_2021_10_clean %>% \n",
    "  group_by(member_casual, day_of_week, rideable_type) %>% \n",
    "  summarize(mean_ride_length = mean(ride_length), number_of_rides = n()) %>%  # also renaming column mean(ride_length) to mean_ride_length \n",
    "  arrange(day_of_week, member_casual, rideable_type)\n",
    "\n",
    "# plotting the weekday average ride length between member vs. casual\n",
    "ggplot(data = weekday_tripdata) + \n",
    "  geom_col(mapping = aes(x = day_of_week, y = mean_ride_length, fill = rideable_type)) +\n",
    "  facet_grid(~member_casual) + \n",
    "  labs(title = \"Ride length per day per bike \")"
   ]
  },
  {
   "cell_type": "markdown",
   "id": "cf21e310",
   "metadata": {
    "papermill": {
     "duration": 0.079188,
     "end_time": "2021-12-11T16:41:38.026261",
     "exception": false,
     "start_time": "2021-12-11T16:41:37.947073",
     "status": "completed"
    },
    "tags": []
   },
   "source": [
    "#### In summary: \n",
    "* Doked bike is more popular for casual users, while members do not have preference.\n",
    "* Higher usage for casual users during weekkend, while members rides more during weekday. \n",
    "* Casual users generally use the bikes for >2x longer compared to member.\n",
    "* Both casual users and members ride longer during weekends.\n",
    "\n",
    "\n",
    "#### Further analysis to be done: \n",
    "* Identify the route pattern for casual and members, whether usage dependent on specific location/ area. \n",
    "* Understand why docked bikes are more popular among casual users compared to other types. \n",
    "* Investigate factors that contribute to longer ride time for casual users. "
   ]
  }
 ],
 "metadata": {
  "kernelspec": {
   "display_name": "R",
   "language": "R",
   "name": "ir"
  },
  "language_info": {
   "codemirror_mode": "r",
   "file_extension": ".r",
   "mimetype": "text/x-r-source",
   "name": "R",
   "pygments_lexer": "r",
   "version": "4.0.5"
  },
  "papermill": {
   "default_parameters": {},
   "duration": 86.88572,
   "end_time": "2021-12-11T16:41:38.315498",
   "environment_variables": {},
   "exception": null,
   "input_path": "__notebook__.ipynb",
   "output_path": "__notebook__.ipynb",
   "parameters": {},
   "start_time": "2021-12-11T16:40:11.429778",
   "version": "2.3.3"
  }
 },
 "nbformat": 4,
 "nbformat_minor": 5
}
