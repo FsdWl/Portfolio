{
 "cells": [
  {
   "cell_type": "code",
   "execution_count": 1,
   "id": "dc837047-57c1-4669-bd3a-608321972564",
   "metadata": {},
   "outputs": [],
   "source": [
    "import pandas as pd\n",
    "import matplotlib.pyplot as plt\n",
    "\n",
    "%matplotlib inline"
   ]
  },
  {
   "cell_type": "markdown",
   "id": "0f01734d-e94b-4763-b3e8-05e66472e6f5",
   "metadata": {},
   "source": [
    "#### Merging 12 months of sales data into a single file"
   ]
  },
  {
   "cell_type": "code",
   "execution_count": 2,
   "id": "24b8756b-a183-4d9d-ab45-f0bf7f0ed5c7",
   "metadata": {},
   "outputs": [],
   "source": [
    "import os  # to find all files in a directory\n",
    "\n",
    "filepath = 'C:\\\\Users\\\\fwill03\\\\Documents\\\\Jupyter Notebook\\\\Portfolio\\\\Sales analysis\\\\data\\\\'\n",
    "\n",
    "df_allsales_2019 = pd.DataFrame()  # empty dataframe\n",
    "\n",
    "\n",
    "files = [file for file in os.listdir(filepath)]  # listing out all the files in directory\n",
    "\n",
    "for file in files:\n",
    "    df_allsales_2019 = pd.concat([df_allsales_2019, pd.read_csv(filepath + file)])  # merging/ concat all files into single dataframe\n",
    "    \n",
    "df_allsales_2019.to_csv('all_data.csv', index= False)   \n"
   ]
  },
  {
   "cell_type": "code",
   "execution_count": 3,
   "id": "c5c89dd8-5bcf-4cce-86a2-560bdf405b5c",
   "metadata": {},
   "outputs": [
    {
     "data": {
      "text/html": [
       "<div>\n",
       "<style scoped>\n",
       "    .dataframe tbody tr th:only-of-type {\n",
       "        vertical-align: middle;\n",
       "    }\n",
       "\n",
       "    .dataframe tbody tr th {\n",
       "        vertical-align: top;\n",
       "    }\n",
       "\n",
       "    .dataframe thead th {\n",
       "        text-align: right;\n",
       "    }\n",
       "</style>\n",
       "<table border=\"1\" class=\"dataframe\">\n",
       "  <thead>\n",
       "    <tr style=\"text-align: right;\">\n",
       "      <th></th>\n",
       "      <th>Order ID</th>\n",
       "      <th>Product</th>\n",
       "      <th>Quantity Ordered</th>\n",
       "      <th>Price Each</th>\n",
       "      <th>Order Date</th>\n",
       "      <th>Purchase Address</th>\n",
       "    </tr>\n",
       "  </thead>\n",
       "  <tbody>\n",
       "    <tr>\n",
       "      <th>0</th>\n",
       "      <td>176558</td>\n",
       "      <td>USB-C Charging Cable</td>\n",
       "      <td>2</td>\n",
       "      <td>11.95</td>\n",
       "      <td>04/19/19 08:46</td>\n",
       "      <td>917 1st St, Dallas, TX 75001</td>\n",
       "    </tr>\n",
       "    <tr>\n",
       "      <th>1</th>\n",
       "      <td>NaN</td>\n",
       "      <td>NaN</td>\n",
       "      <td>NaN</td>\n",
       "      <td>NaN</td>\n",
       "      <td>NaN</td>\n",
       "      <td>NaN</td>\n",
       "    </tr>\n",
       "    <tr>\n",
       "      <th>2</th>\n",
       "      <td>176559</td>\n",
       "      <td>Bose SoundSport Headphones</td>\n",
       "      <td>1</td>\n",
       "      <td>99.99</td>\n",
       "      <td>04/07/19 22:30</td>\n",
       "      <td>682 Chestnut St, Boston, MA 02215</td>\n",
       "    </tr>\n",
       "    <tr>\n",
       "      <th>3</th>\n",
       "      <td>176560</td>\n",
       "      <td>Google Phone</td>\n",
       "      <td>1</td>\n",
       "      <td>600</td>\n",
       "      <td>04/12/19 14:38</td>\n",
       "      <td>669 Spruce St, Los Angeles, CA 90001</td>\n",
       "    </tr>\n",
       "    <tr>\n",
       "      <th>4</th>\n",
       "      <td>176560</td>\n",
       "      <td>Wired Headphones</td>\n",
       "      <td>1</td>\n",
       "      <td>11.99</td>\n",
       "      <td>04/12/19 14:38</td>\n",
       "      <td>669 Spruce St, Los Angeles, CA 90001</td>\n",
       "    </tr>\n",
       "    <tr>\n",
       "      <th>...</th>\n",
       "      <td>...</td>\n",
       "      <td>...</td>\n",
       "      <td>...</td>\n",
       "      <td>...</td>\n",
       "      <td>...</td>\n",
       "      <td>...</td>\n",
       "    </tr>\n",
       "    <tr>\n",
       "      <th>11681</th>\n",
       "      <td>259353</td>\n",
       "      <td>AAA Batteries (4-pack)</td>\n",
       "      <td>3</td>\n",
       "      <td>2.99</td>\n",
       "      <td>09/17/19 20:56</td>\n",
       "      <td>840 Highland St, Los Angeles, CA 90001</td>\n",
       "    </tr>\n",
       "    <tr>\n",
       "      <th>11682</th>\n",
       "      <td>259354</td>\n",
       "      <td>iPhone</td>\n",
       "      <td>1</td>\n",
       "      <td>700</td>\n",
       "      <td>09/01/2019 16:00</td>\n",
       "      <td>216 Dogwood St, San Francisco, CA 94016</td>\n",
       "    </tr>\n",
       "    <tr>\n",
       "      <th>11683</th>\n",
       "      <td>259355</td>\n",
       "      <td>iPhone</td>\n",
       "      <td>1</td>\n",
       "      <td>700</td>\n",
       "      <td>09/23/19 07:39</td>\n",
       "      <td>220 12th St, San Francisco, CA 94016</td>\n",
       "    </tr>\n",
       "    <tr>\n",
       "      <th>11684</th>\n",
       "      <td>259356</td>\n",
       "      <td>34in Ultrawide Monitor</td>\n",
       "      <td>1</td>\n",
       "      <td>379.99</td>\n",
       "      <td>09/19/19 17:30</td>\n",
       "      <td>511 Forest St, San Francisco, CA 94016</td>\n",
       "    </tr>\n",
       "    <tr>\n",
       "      <th>11685</th>\n",
       "      <td>259357</td>\n",
       "      <td>USB-C Charging Cable</td>\n",
       "      <td>1</td>\n",
       "      <td>11.95</td>\n",
       "      <td>09/30/19 00:18</td>\n",
       "      <td>250 Meadow St, San Francisco, CA 94016</td>\n",
       "    </tr>\n",
       "  </tbody>\n",
       "</table>\n",
       "<p>186850 rows × 6 columns</p>\n",
       "</div>"
      ],
      "text/plain": [
       "      Order ID                     Product Quantity Ordered Price Each  \\\n",
       "0       176558        USB-C Charging Cable                2      11.95   \n",
       "1          NaN                         NaN              NaN        NaN   \n",
       "2       176559  Bose SoundSport Headphones                1      99.99   \n",
       "3       176560                Google Phone                1        600   \n",
       "4       176560            Wired Headphones                1      11.99   \n",
       "...        ...                         ...              ...        ...   \n",
       "11681   259353      AAA Batteries (4-pack)                3       2.99   \n",
       "11682   259354                      iPhone                1        700   \n",
       "11683   259355                      iPhone                1        700   \n",
       "11684   259356      34in Ultrawide Monitor                1     379.99   \n",
       "11685   259357        USB-C Charging Cable                1      11.95   \n",
       "\n",
       "             Order Date                         Purchase Address  \n",
       "0        04/19/19 08:46             917 1st St, Dallas, TX 75001  \n",
       "1                   NaN                                      NaN  \n",
       "2        04/07/19 22:30        682 Chestnut St, Boston, MA 02215  \n",
       "3        04/12/19 14:38     669 Spruce St, Los Angeles, CA 90001  \n",
       "4        04/12/19 14:38     669 Spruce St, Los Angeles, CA 90001  \n",
       "...                 ...                                      ...  \n",
       "11681    09/17/19 20:56   840 Highland St, Los Angeles, CA 90001  \n",
       "11682  09/01/2019 16:00  216 Dogwood St, San Francisco, CA 94016  \n",
       "11683    09/23/19 07:39     220 12th St, San Francisco, CA 94016  \n",
       "11684    09/19/19 17:30   511 Forest St, San Francisco, CA 94016  \n",
       "11685    09/30/19 00:18   250 Meadow St, San Francisco, CA 94016  \n",
       "\n",
       "[186850 rows x 6 columns]"
      ]
     },
     "execution_count": 3,
     "metadata": {},
     "output_type": "execute_result"
    }
   ],
   "source": [
    "df_allsales_2019"
   ]
  },
  {
   "cell_type": "code",
   "execution_count": null,
   "id": "efc6b5e1-07ba-4e7c-89af-a3c01c2e9ad9",
   "metadata": {},
   "outputs": [],
   "source": []
  },
  {
   "cell_type": "markdown",
   "id": "251f20c0-2c24-4e03-8960-ac03239a0bfb",
   "metadata": {},
   "source": [
    "## DATA CLEANING "
   ]
  },
  {
   "cell_type": "markdown",
   "id": "e7e5e241-c29f-4f47-970d-f2110472dcfd",
   "metadata": {},
   "source": [
    "#### Checking for null values and duplicates"
   ]
  },
  {
   "cell_type": "code",
   "execution_count": 4,
   "id": "b83b7993-cfc0-4d3d-913b-96e19854ed58",
   "metadata": {},
   "outputs": [
    {
     "data": {
      "text/plain": [
       "Order ID            545\n",
       "Product             545\n",
       "Quantity Ordered    545\n",
       "Price Each          545\n",
       "Order Date          545\n",
       "Purchase Address    545\n",
       "dtype: int64"
      ]
     },
     "execution_count": 4,
     "metadata": {},
     "output_type": "execute_result"
    }
   ],
   "source": [
    "df_allsales_2019.isnull().sum()\n",
    "\n",
    "# dropping 545 rows out of >180k rows seemed acceptable."
   ]
  },
  {
   "cell_type": "code",
   "execution_count": 5,
   "id": "8c3eb686-ad2c-4179-9a31-f0117c48d6bc",
   "metadata": {},
   "outputs": [
    {
     "data": {
      "text/plain": [
       "Order ID            178438\n",
       "Product                 20\n",
       "Quantity Ordered        10\n",
       "Price Each              24\n",
       "Order Date          142396\n",
       "Purchase Address    140788\n",
       "dtype: int64"
      ]
     },
     "execution_count": 5,
     "metadata": {},
     "output_type": "execute_result"
    }
   ],
   "source": [
    "df_allsales_2019.nunique()\n",
    "\n",
    "# There are only 178k unique order id vs. 186k rows. So there are quite a number of duplicates. \n",
    "# We should drop them as well.  "
   ]
  },
  {
   "cell_type": "code",
   "execution_count": 6,
   "id": "85b6e8e2-33e4-4342-b8d0-f1ef5ef92ce9",
   "metadata": {},
   "outputs": [],
   "source": [
    "df_allsales_2019.drop_duplicates(inplace= True)"
   ]
  },
  {
   "cell_type": "code",
   "execution_count": 7,
   "id": "ff193049-4e69-42b2-860f-cd77b096429c",
   "metadata": {},
   "outputs": [],
   "source": [
    "df_allsales_2019.dropna(inplace= True)"
   ]
  },
  {
   "cell_type": "code",
   "execution_count": null,
   "id": "cb9b61e4-aea7-46d4-b412-78f707f91cf3",
   "metadata": {},
   "outputs": [],
   "source": []
  },
  {
   "cell_type": "markdown",
   "id": "bc1528b7-9008-4a2d-b7f1-a0c921d5bd26",
   "metadata": {},
   "source": [
    "#### Checking file type "
   ]
  },
  {
   "cell_type": "code",
   "execution_count": 8,
   "id": "f66d3e08-42ce-49e0-bc29-6118edec934b",
   "metadata": {},
   "outputs": [
    {
     "data": {
      "text/plain": [
       "Order ID            object\n",
       "Product             object\n",
       "Quantity Ordered    object\n",
       "Price Each          object\n",
       "Order Date          object\n",
       "Purchase Address    object\n",
       "dtype: object"
      ]
     },
     "execution_count": 8,
     "metadata": {},
     "output_type": "execute_result"
    }
   ],
   "source": [
    "df_allsales_2019.dtypes\n",
    "\n",
    "# Need to convert quantity, price to numerical so we can calculate them. \n",
    "# Need to convert/ extract month from order date as well. "
   ]
  },
  {
   "cell_type": "code",
   "execution_count": null,
   "id": "c88003ca-1606-462a-9020-357726836cbe",
   "metadata": {},
   "outputs": [],
   "source": []
  },
  {
   "cell_type": "markdown",
   "id": "b82816ba-038d-41fd-9016-28b926b65623",
   "metadata": {},
   "source": [
    "#### Removing header which were copied when we are merging multiple data files. "
   ]
  },
  {
   "cell_type": "code",
   "execution_count": 9,
   "id": "d1c77567-bd95-40fd-abf7-6ce179369135",
   "metadata": {},
   "outputs": [
    {
     "data": {
      "text/plain": [
       "Int64Index([519], dtype='int64')"
      ]
     },
     "execution_count": 9,
     "metadata": {},
     "output_type": "execute_result"
    }
   ],
   "source": [
    "df_allsales_2019[df_allsales_2019['Order Date'] == 'Order Date'].index"
   ]
  },
  {
   "cell_type": "code",
   "execution_count": 10,
   "id": "c885cae7-cc22-4563-bd8c-24d1f71fb3d5",
   "metadata": {},
   "outputs": [],
   "source": [
    "df_allsales_2019.drop(df_allsales_2019[df_allsales_2019['Order Date'] == 'Order Date'].index, inplace= True)\n",
    "df_allsales_2019.reset_index(drop= True, inplace= True)\n"
   ]
  },
  {
   "cell_type": "code",
   "execution_count": null,
   "id": "f6a6cc89-f450-4278-baf3-5bd979c81c39",
   "metadata": {},
   "outputs": [],
   "source": []
  },
  {
   "cell_type": "markdown",
   "id": "2f3ebc53-97ef-4478-b2cb-5cf6d0a9a251",
   "metadata": {},
   "source": [
    "#### Extract the month from 'order date' columns into months"
   ]
  },
  {
   "cell_type": "code",
   "execution_count": 11,
   "id": "8675f2bf-95bd-4c61-a822-ba0309f57fab",
   "metadata": {},
   "outputs": [],
   "source": [
    "# Extracting from string.\n",
    "\n",
    "#df_allsales_2019[['date', 'time']] = df_allsales_2019['Order Date'].str.split(' ', expand= True)\n",
    "#df_allsales_2019['month'] = df_allsales_2019['date'].str[:2].astype('int32')"
   ]
  },
  {
   "cell_type": "code",
   "execution_count": null,
   "id": "3282592d-ad53-41b7-8b45-3a09544fd585",
   "metadata": {},
   "outputs": [],
   "source": []
  },
  {
   "cell_type": "code",
   "execution_count": 12,
   "id": "76ec0a35-12ce-4025-afce-f7f858bc816c",
   "metadata": {},
   "outputs": [],
   "source": [
    "# Converting to datetime and extract from datetime. \n",
    "\n",
    "df_allsales_2019['Order Date'] = pd.to_datetime(df_allsales_2019['Order Date'])"
   ]
  },
  {
   "cell_type": "code",
   "execution_count": 13,
   "id": "1b6a15b4-2547-4708-a2cd-53505ce77bb5",
   "metadata": {},
   "outputs": [],
   "source": [
    "df_allsales_2019['month'] = df_allsales_2019['Order Date'].dt.month\n",
    "df_allsales_2019['day_of_week'] = df_allsales_2019['Order Date'].dt.day_name()\n",
    "df_allsales_2019['hour'] = df_allsales_2019['Order Date'].dt.hour"
   ]
  },
  {
   "cell_type": "code",
   "execution_count": null,
   "id": "6b5d88e6-1270-46d8-ba0e-2cc5ae762188",
   "metadata": {},
   "outputs": [],
   "source": []
  },
  {
   "cell_type": "markdown",
   "id": "fe130689-48c0-4d94-a0a3-0cebbe646989",
   "metadata": {},
   "source": [
    "#### Convert price and quantity to numerical "
   ]
  },
  {
   "cell_type": "code",
   "execution_count": 14,
   "id": "26e8ad72-5cba-4d35-8d29-8f4c4c4b62fb",
   "metadata": {},
   "outputs": [],
   "source": [
    "df_allsales_2019['Quantity Ordered'] = pd.to_numeric(df_allsales_2019['Quantity Ordered'])\n",
    "df_allsales_2019['Price Each'] = pd.to_numeric(df_allsales_2019['Price Each'])"
   ]
  },
  {
   "cell_type": "code",
   "execution_count": 15,
   "id": "3f97e29c-c179-4743-af45-22a4a19cc89b",
   "metadata": {},
   "outputs": [
    {
     "data": {
      "text/plain": [
       "Order ID                    object\n",
       "Product                     object\n",
       "Quantity Ordered             int64\n",
       "Price Each                 float64\n",
       "Order Date          datetime64[ns]\n",
       "Purchase Address            object\n",
       "month                        int64\n",
       "day_of_week                 object\n",
       "hour                         int64\n",
       "dtype: object"
      ]
     },
     "execution_count": 15,
     "metadata": {},
     "output_type": "execute_result"
    }
   ],
   "source": [
    "df_allsales_2019.dtypes"
   ]
  },
  {
   "cell_type": "markdown",
   "id": "2b89e7d7-42f3-45b1-8ed8-157a6115b37a",
   "metadata": {},
   "source": []
  },
  {
   "cell_type": "markdown",
   "id": "2d9f9a13-623e-48ef-a87f-e687ab22719e",
   "metadata": {},
   "source": [
    "#### Adding Sales amount\n"
   ]
  },
  {
   "cell_type": "code",
   "execution_count": 16,
   "id": "aa2f2377-106f-4db9-8663-90b93e15b1f3",
   "metadata": {},
   "outputs": [],
   "source": [
    "df_allsales_2019['sales'] = df_allsales_2019['Quantity Ordered'] * df_allsales_2019['Price Each']"
   ]
  },
  {
   "cell_type": "code",
   "execution_count": 17,
   "id": "5cb94e71-b048-4b56-a6c4-43a74af704bd",
   "metadata": {},
   "outputs": [
    {
     "data": {
      "text/html": [
       "<div>\n",
       "<style scoped>\n",
       "    .dataframe tbody tr th:only-of-type {\n",
       "        vertical-align: middle;\n",
       "    }\n",
       "\n",
       "    .dataframe tbody tr th {\n",
       "        vertical-align: top;\n",
       "    }\n",
       "\n",
       "    .dataframe thead th {\n",
       "        text-align: right;\n",
       "    }\n",
       "</style>\n",
       "<table border=\"1\" class=\"dataframe\">\n",
       "  <thead>\n",
       "    <tr style=\"text-align: right;\">\n",
       "      <th></th>\n",
       "      <th>Order ID</th>\n",
       "      <th>Product</th>\n",
       "      <th>Quantity Ordered</th>\n",
       "      <th>Price Each</th>\n",
       "      <th>Order Date</th>\n",
       "      <th>Purchase Address</th>\n",
       "      <th>month</th>\n",
       "      <th>day_of_week</th>\n",
       "      <th>hour</th>\n",
       "      <th>sales</th>\n",
       "    </tr>\n",
       "  </thead>\n",
       "  <tbody>\n",
       "    <tr>\n",
       "      <th>0</th>\n",
       "      <td>176558</td>\n",
       "      <td>USB-C Charging Cable</td>\n",
       "      <td>2</td>\n",
       "      <td>11.95</td>\n",
       "      <td>2019-04-19 08:46:00</td>\n",
       "      <td>917 1st St, Dallas, TX 75001</td>\n",
       "      <td>4</td>\n",
       "      <td>Friday</td>\n",
       "      <td>8</td>\n",
       "      <td>23.90</td>\n",
       "    </tr>\n",
       "    <tr>\n",
       "      <th>1</th>\n",
       "      <td>176559</td>\n",
       "      <td>Bose SoundSport Headphones</td>\n",
       "      <td>1</td>\n",
       "      <td>99.99</td>\n",
       "      <td>2019-04-07 22:30:00</td>\n",
       "      <td>682 Chestnut St, Boston, MA 02215</td>\n",
       "      <td>4</td>\n",
       "      <td>Sunday</td>\n",
       "      <td>22</td>\n",
       "      <td>99.99</td>\n",
       "    </tr>\n",
       "    <tr>\n",
       "      <th>2</th>\n",
       "      <td>176560</td>\n",
       "      <td>Google Phone</td>\n",
       "      <td>1</td>\n",
       "      <td>600.00</td>\n",
       "      <td>2019-04-12 14:38:00</td>\n",
       "      <td>669 Spruce St, Los Angeles, CA 90001</td>\n",
       "      <td>4</td>\n",
       "      <td>Friday</td>\n",
       "      <td>14</td>\n",
       "      <td>600.00</td>\n",
       "    </tr>\n",
       "    <tr>\n",
       "      <th>3</th>\n",
       "      <td>176560</td>\n",
       "      <td>Wired Headphones</td>\n",
       "      <td>1</td>\n",
       "      <td>11.99</td>\n",
       "      <td>2019-04-12 14:38:00</td>\n",
       "      <td>669 Spruce St, Los Angeles, CA 90001</td>\n",
       "      <td>4</td>\n",
       "      <td>Friday</td>\n",
       "      <td>14</td>\n",
       "      <td>11.99</td>\n",
       "    </tr>\n",
       "    <tr>\n",
       "      <th>4</th>\n",
       "      <td>176561</td>\n",
       "      <td>Wired Headphones</td>\n",
       "      <td>1</td>\n",
       "      <td>11.99</td>\n",
       "      <td>2019-04-30 09:27:00</td>\n",
       "      <td>333 8th St, Los Angeles, CA 90001</td>\n",
       "      <td>4</td>\n",
       "      <td>Tuesday</td>\n",
       "      <td>9</td>\n",
       "      <td>11.99</td>\n",
       "    </tr>\n",
       "    <tr>\n",
       "      <th>...</th>\n",
       "      <td>...</td>\n",
       "      <td>...</td>\n",
       "      <td>...</td>\n",
       "      <td>...</td>\n",
       "      <td>...</td>\n",
       "      <td>...</td>\n",
       "      <td>...</td>\n",
       "      <td>...</td>\n",
       "      <td>...</td>\n",
       "      <td>...</td>\n",
       "    </tr>\n",
       "    <tr>\n",
       "      <th>185670</th>\n",
       "      <td>259353</td>\n",
       "      <td>AAA Batteries (4-pack)</td>\n",
       "      <td>3</td>\n",
       "      <td>2.99</td>\n",
       "      <td>2019-09-17 20:56:00</td>\n",
       "      <td>840 Highland St, Los Angeles, CA 90001</td>\n",
       "      <td>9</td>\n",
       "      <td>Tuesday</td>\n",
       "      <td>20</td>\n",
       "      <td>8.97</td>\n",
       "    </tr>\n",
       "    <tr>\n",
       "      <th>185671</th>\n",
       "      <td>259354</td>\n",
       "      <td>iPhone</td>\n",
       "      <td>1</td>\n",
       "      <td>700.00</td>\n",
       "      <td>2019-09-01 16:00:00</td>\n",
       "      <td>216 Dogwood St, San Francisco, CA 94016</td>\n",
       "      <td>9</td>\n",
       "      <td>Sunday</td>\n",
       "      <td>16</td>\n",
       "      <td>700.00</td>\n",
       "    </tr>\n",
       "    <tr>\n",
       "      <th>185672</th>\n",
       "      <td>259355</td>\n",
       "      <td>iPhone</td>\n",
       "      <td>1</td>\n",
       "      <td>700.00</td>\n",
       "      <td>2019-09-23 07:39:00</td>\n",
       "      <td>220 12th St, San Francisco, CA 94016</td>\n",
       "      <td>9</td>\n",
       "      <td>Monday</td>\n",
       "      <td>7</td>\n",
       "      <td>700.00</td>\n",
       "    </tr>\n",
       "    <tr>\n",
       "      <th>185673</th>\n",
       "      <td>259356</td>\n",
       "      <td>34in Ultrawide Monitor</td>\n",
       "      <td>1</td>\n",
       "      <td>379.99</td>\n",
       "      <td>2019-09-19 17:30:00</td>\n",
       "      <td>511 Forest St, San Francisco, CA 94016</td>\n",
       "      <td>9</td>\n",
       "      <td>Thursday</td>\n",
       "      <td>17</td>\n",
       "      <td>379.99</td>\n",
       "    </tr>\n",
       "    <tr>\n",
       "      <th>185674</th>\n",
       "      <td>259357</td>\n",
       "      <td>USB-C Charging Cable</td>\n",
       "      <td>1</td>\n",
       "      <td>11.95</td>\n",
       "      <td>2019-09-30 00:18:00</td>\n",
       "      <td>250 Meadow St, San Francisco, CA 94016</td>\n",
       "      <td>9</td>\n",
       "      <td>Monday</td>\n",
       "      <td>0</td>\n",
       "      <td>11.95</td>\n",
       "    </tr>\n",
       "  </tbody>\n",
       "</table>\n",
       "<p>185675 rows × 10 columns</p>\n",
       "</div>"
      ],
      "text/plain": [
       "       Order ID                     Product  Quantity Ordered  Price Each  \\\n",
       "0        176558        USB-C Charging Cable                 2       11.95   \n",
       "1        176559  Bose SoundSport Headphones                 1       99.99   \n",
       "2        176560                Google Phone                 1      600.00   \n",
       "3        176560            Wired Headphones                 1       11.99   \n",
       "4        176561            Wired Headphones                 1       11.99   \n",
       "...         ...                         ...               ...         ...   \n",
       "185670   259353      AAA Batteries (4-pack)                 3        2.99   \n",
       "185671   259354                      iPhone                 1      700.00   \n",
       "185672   259355                      iPhone                 1      700.00   \n",
       "185673   259356      34in Ultrawide Monitor                 1      379.99   \n",
       "185674   259357        USB-C Charging Cable                 1       11.95   \n",
       "\n",
       "                Order Date                         Purchase Address  month  \\\n",
       "0      2019-04-19 08:46:00             917 1st St, Dallas, TX 75001      4   \n",
       "1      2019-04-07 22:30:00        682 Chestnut St, Boston, MA 02215      4   \n",
       "2      2019-04-12 14:38:00     669 Spruce St, Los Angeles, CA 90001      4   \n",
       "3      2019-04-12 14:38:00     669 Spruce St, Los Angeles, CA 90001      4   \n",
       "4      2019-04-30 09:27:00        333 8th St, Los Angeles, CA 90001      4   \n",
       "...                    ...                                      ...    ...   \n",
       "185670 2019-09-17 20:56:00   840 Highland St, Los Angeles, CA 90001      9   \n",
       "185671 2019-09-01 16:00:00  216 Dogwood St, San Francisco, CA 94016      9   \n",
       "185672 2019-09-23 07:39:00     220 12th St, San Francisco, CA 94016      9   \n",
       "185673 2019-09-19 17:30:00   511 Forest St, San Francisco, CA 94016      9   \n",
       "185674 2019-09-30 00:18:00   250 Meadow St, San Francisco, CA 94016      9   \n",
       "\n",
       "       day_of_week  hour   sales  \n",
       "0           Friday     8   23.90  \n",
       "1           Sunday    22   99.99  \n",
       "2           Friday    14  600.00  \n",
       "3           Friday    14   11.99  \n",
       "4          Tuesday     9   11.99  \n",
       "...            ...   ...     ...  \n",
       "185670     Tuesday    20    8.97  \n",
       "185671      Sunday    16  700.00  \n",
       "185672      Monday     7  700.00  \n",
       "185673    Thursday    17  379.99  \n",
       "185674      Monday     0   11.95  \n",
       "\n",
       "[185675 rows x 10 columns]"
      ]
     },
     "execution_count": 17,
     "metadata": {},
     "output_type": "execute_result"
    }
   ],
   "source": [
    "df_allsales_2019"
   ]
  },
  {
   "cell_type": "code",
   "execution_count": null,
   "id": "1fe511e4-60d4-4a10-9ea6-60c0c5cce762",
   "metadata": {},
   "outputs": [],
   "source": []
  },
  {
   "cell_type": "markdown",
   "id": "e55bab27-0b3a-4ce5-8472-7eada2de8139",
   "metadata": {},
   "source": [
    "#### Extract City and State from Purchase Address "
   ]
  },
  {
   "cell_type": "code",
   "execution_count": 18,
   "id": "a7740127-e730-4fd1-889c-c4255ae73418",
   "metadata": {},
   "outputs": [
    {
     "data": {
      "text/html": [
       "<div>\n",
       "<style scoped>\n",
       "    .dataframe tbody tr th:only-of-type {\n",
       "        vertical-align: middle;\n",
       "    }\n",
       "\n",
       "    .dataframe tbody tr th {\n",
       "        vertical-align: top;\n",
       "    }\n",
       "\n",
       "    .dataframe thead th {\n",
       "        text-align: right;\n",
       "    }\n",
       "</style>\n",
       "<table border=\"1\" class=\"dataframe\">\n",
       "  <thead>\n",
       "    <tr style=\"text-align: right;\">\n",
       "      <th></th>\n",
       "      <th>Order ID</th>\n",
       "      <th>Product</th>\n",
       "      <th>Quantity Ordered</th>\n",
       "      <th>Price Each</th>\n",
       "      <th>Order Date</th>\n",
       "      <th>Purchase Address</th>\n",
       "      <th>month</th>\n",
       "      <th>day_of_week</th>\n",
       "      <th>hour</th>\n",
       "      <th>sales</th>\n",
       "      <th>city</th>\n",
       "    </tr>\n",
       "  </thead>\n",
       "  <tbody>\n",
       "    <tr>\n",
       "      <th>0</th>\n",
       "      <td>176558</td>\n",
       "      <td>USB-C Charging Cable</td>\n",
       "      <td>2</td>\n",
       "      <td>11.95</td>\n",
       "      <td>2019-04-19 08:46:00</td>\n",
       "      <td>917 1st St, Dallas, TX 75001</td>\n",
       "      <td>4</td>\n",
       "      <td>Friday</td>\n",
       "      <td>8</td>\n",
       "      <td>23.90</td>\n",
       "      <td>Dallas (TX)</td>\n",
       "    </tr>\n",
       "    <tr>\n",
       "      <th>1</th>\n",
       "      <td>176559</td>\n",
       "      <td>Bose SoundSport Headphones</td>\n",
       "      <td>1</td>\n",
       "      <td>99.99</td>\n",
       "      <td>2019-04-07 22:30:00</td>\n",
       "      <td>682 Chestnut St, Boston, MA 02215</td>\n",
       "      <td>4</td>\n",
       "      <td>Sunday</td>\n",
       "      <td>22</td>\n",
       "      <td>99.99</td>\n",
       "      <td>Boston (MA)</td>\n",
       "    </tr>\n",
       "    <tr>\n",
       "      <th>2</th>\n",
       "      <td>176560</td>\n",
       "      <td>Google Phone</td>\n",
       "      <td>1</td>\n",
       "      <td>600.00</td>\n",
       "      <td>2019-04-12 14:38:00</td>\n",
       "      <td>669 Spruce St, Los Angeles, CA 90001</td>\n",
       "      <td>4</td>\n",
       "      <td>Friday</td>\n",
       "      <td>14</td>\n",
       "      <td>600.00</td>\n",
       "      <td>Los Angeles (CA)</td>\n",
       "    </tr>\n",
       "    <tr>\n",
       "      <th>3</th>\n",
       "      <td>176560</td>\n",
       "      <td>Wired Headphones</td>\n",
       "      <td>1</td>\n",
       "      <td>11.99</td>\n",
       "      <td>2019-04-12 14:38:00</td>\n",
       "      <td>669 Spruce St, Los Angeles, CA 90001</td>\n",
       "      <td>4</td>\n",
       "      <td>Friday</td>\n",
       "      <td>14</td>\n",
       "      <td>11.99</td>\n",
       "      <td>Los Angeles (CA)</td>\n",
       "    </tr>\n",
       "    <tr>\n",
       "      <th>4</th>\n",
       "      <td>176561</td>\n",
       "      <td>Wired Headphones</td>\n",
       "      <td>1</td>\n",
       "      <td>11.99</td>\n",
       "      <td>2019-04-30 09:27:00</td>\n",
       "      <td>333 8th St, Los Angeles, CA 90001</td>\n",
       "      <td>4</td>\n",
       "      <td>Tuesday</td>\n",
       "      <td>9</td>\n",
       "      <td>11.99</td>\n",
       "      <td>Los Angeles (CA)</td>\n",
       "    </tr>\n",
       "    <tr>\n",
       "      <th>...</th>\n",
       "      <td>...</td>\n",
       "      <td>...</td>\n",
       "      <td>...</td>\n",
       "      <td>...</td>\n",
       "      <td>...</td>\n",
       "      <td>...</td>\n",
       "      <td>...</td>\n",
       "      <td>...</td>\n",
       "      <td>...</td>\n",
       "      <td>...</td>\n",
       "      <td>...</td>\n",
       "    </tr>\n",
       "    <tr>\n",
       "      <th>185670</th>\n",
       "      <td>259353</td>\n",
       "      <td>AAA Batteries (4-pack)</td>\n",
       "      <td>3</td>\n",
       "      <td>2.99</td>\n",
       "      <td>2019-09-17 20:56:00</td>\n",
       "      <td>840 Highland St, Los Angeles, CA 90001</td>\n",
       "      <td>9</td>\n",
       "      <td>Tuesday</td>\n",
       "      <td>20</td>\n",
       "      <td>8.97</td>\n",
       "      <td>Los Angeles (CA)</td>\n",
       "    </tr>\n",
       "    <tr>\n",
       "      <th>185671</th>\n",
       "      <td>259354</td>\n",
       "      <td>iPhone</td>\n",
       "      <td>1</td>\n",
       "      <td>700.00</td>\n",
       "      <td>2019-09-01 16:00:00</td>\n",
       "      <td>216 Dogwood St, San Francisco, CA 94016</td>\n",
       "      <td>9</td>\n",
       "      <td>Sunday</td>\n",
       "      <td>16</td>\n",
       "      <td>700.00</td>\n",
       "      <td>San Francisco (CA)</td>\n",
       "    </tr>\n",
       "    <tr>\n",
       "      <th>185672</th>\n",
       "      <td>259355</td>\n",
       "      <td>iPhone</td>\n",
       "      <td>1</td>\n",
       "      <td>700.00</td>\n",
       "      <td>2019-09-23 07:39:00</td>\n",
       "      <td>220 12th St, San Francisco, CA 94016</td>\n",
       "      <td>9</td>\n",
       "      <td>Monday</td>\n",
       "      <td>7</td>\n",
       "      <td>700.00</td>\n",
       "      <td>San Francisco (CA)</td>\n",
       "    </tr>\n",
       "    <tr>\n",
       "      <th>185673</th>\n",
       "      <td>259356</td>\n",
       "      <td>34in Ultrawide Monitor</td>\n",
       "      <td>1</td>\n",
       "      <td>379.99</td>\n",
       "      <td>2019-09-19 17:30:00</td>\n",
       "      <td>511 Forest St, San Francisco, CA 94016</td>\n",
       "      <td>9</td>\n",
       "      <td>Thursday</td>\n",
       "      <td>17</td>\n",
       "      <td>379.99</td>\n",
       "      <td>San Francisco (CA)</td>\n",
       "    </tr>\n",
       "    <tr>\n",
       "      <th>185674</th>\n",
       "      <td>259357</td>\n",
       "      <td>USB-C Charging Cable</td>\n",
       "      <td>1</td>\n",
       "      <td>11.95</td>\n",
       "      <td>2019-09-30 00:18:00</td>\n",
       "      <td>250 Meadow St, San Francisco, CA 94016</td>\n",
       "      <td>9</td>\n",
       "      <td>Monday</td>\n",
       "      <td>0</td>\n",
       "      <td>11.95</td>\n",
       "      <td>San Francisco (CA)</td>\n",
       "    </tr>\n",
       "  </tbody>\n",
       "</table>\n",
       "<p>185675 rows × 11 columns</p>\n",
       "</div>"
      ],
      "text/plain": [
       "       Order ID                     Product  Quantity Ordered  Price Each  \\\n",
       "0        176558        USB-C Charging Cable                 2       11.95   \n",
       "1        176559  Bose SoundSport Headphones                 1       99.99   \n",
       "2        176560                Google Phone                 1      600.00   \n",
       "3        176560            Wired Headphones                 1       11.99   \n",
       "4        176561            Wired Headphones                 1       11.99   \n",
       "...         ...                         ...               ...         ...   \n",
       "185670   259353      AAA Batteries (4-pack)                 3        2.99   \n",
       "185671   259354                      iPhone                 1      700.00   \n",
       "185672   259355                      iPhone                 1      700.00   \n",
       "185673   259356      34in Ultrawide Monitor                 1      379.99   \n",
       "185674   259357        USB-C Charging Cable                 1       11.95   \n",
       "\n",
       "                Order Date                         Purchase Address  month  \\\n",
       "0      2019-04-19 08:46:00             917 1st St, Dallas, TX 75001      4   \n",
       "1      2019-04-07 22:30:00        682 Chestnut St, Boston, MA 02215      4   \n",
       "2      2019-04-12 14:38:00     669 Spruce St, Los Angeles, CA 90001      4   \n",
       "3      2019-04-12 14:38:00     669 Spruce St, Los Angeles, CA 90001      4   \n",
       "4      2019-04-30 09:27:00        333 8th St, Los Angeles, CA 90001      4   \n",
       "...                    ...                                      ...    ...   \n",
       "185670 2019-09-17 20:56:00   840 Highland St, Los Angeles, CA 90001      9   \n",
       "185671 2019-09-01 16:00:00  216 Dogwood St, San Francisco, CA 94016      9   \n",
       "185672 2019-09-23 07:39:00     220 12th St, San Francisco, CA 94016      9   \n",
       "185673 2019-09-19 17:30:00   511 Forest St, San Francisco, CA 94016      9   \n",
       "185674 2019-09-30 00:18:00   250 Meadow St, San Francisco, CA 94016      9   \n",
       "\n",
       "       day_of_week  hour   sales                 city  \n",
       "0           Friday     8   23.90          Dallas (TX)  \n",
       "1           Sunday    22   99.99          Boston (MA)  \n",
       "2           Friday    14  600.00     Los Angeles (CA)  \n",
       "3           Friday    14   11.99     Los Angeles (CA)  \n",
       "4          Tuesday     9   11.99     Los Angeles (CA)  \n",
       "...            ...   ...     ...                  ...  \n",
       "185670     Tuesday    20    8.97     Los Angeles (CA)  \n",
       "185671      Sunday    16  700.00   San Francisco (CA)  \n",
       "185672      Monday     7  700.00   San Francisco (CA)  \n",
       "185673    Thursday    17  379.99   San Francisco (CA)  \n",
       "185674      Monday     0   11.95   San Francisco (CA)  \n",
       "\n",
       "[185675 rows x 11 columns]"
      ]
     },
     "execution_count": 18,
     "metadata": {},
     "output_type": "execute_result"
    }
   ],
   "source": [
    "# extract 1 by 1 and concat\n",
    "df_allsales_2019['Purchase Address'].str.split(',', expand= True)[1] + ' (' + df_allsales_2019['Purchase Address'].str.split(',', expand= True)[2].str.split(' ', expand= True)[1] + ')'\n",
    "\n",
    "# alteratively use .apply and lambda in an f string:\n",
    "df_allsales_2019['city'] = df_allsales_2019['Purchase Address'].apply( lambda x: f\"{x.split(',')[1]} ({x.split(',')[2].split(' ')[1]})\")\n",
    "\n",
    "df_allsales_2019"
   ]
  },
  {
   "cell_type": "code",
   "execution_count": null,
   "id": "10e9f1bc-7493-4208-9bc6-e1320d73d0ea",
   "metadata": {},
   "outputs": [],
   "source": []
  },
  {
   "cell_type": "markdown",
   "id": "74e52369-b00a-49d2-b48b-243ae36d0452",
   "metadata": {},
   "source": [
    "### DATA EXPLORATION"
   ]
  },
  {
   "cell_type": "markdown",
   "id": "cb1e8b09-34c3-4ef6-b1b5-c54fbb16897f",
   "metadata": {},
   "source": [
    "#### Month with highest sales\n"
   ]
  },
  {
   "cell_type": "code",
   "execution_count": 19,
   "id": "2bc46a27-20f1-48a1-8181-9a9b79636a16",
   "metadata": {},
   "outputs": [
    {
     "data": {
      "text/html": [
       "<div>\n",
       "<style scoped>\n",
       "    .dataframe tbody tr th:only-of-type {\n",
       "        vertical-align: middle;\n",
       "    }\n",
       "\n",
       "    .dataframe tbody tr th {\n",
       "        vertical-align: top;\n",
       "    }\n",
       "\n",
       "    .dataframe thead th {\n",
       "        text-align: right;\n",
       "    }\n",
       "</style>\n",
       "<table border=\"1\" class=\"dataframe\">\n",
       "  <thead>\n",
       "    <tr style=\"text-align: right;\">\n",
       "      <th></th>\n",
       "      <th>month</th>\n",
       "      <th>Quantity Ordered</th>\n",
       "      <th>Price Each</th>\n",
       "      <th>hour</th>\n",
       "      <th>sales</th>\n",
       "    </tr>\n",
       "  </thead>\n",
       "  <tbody>\n",
       "    <tr>\n",
       "      <th>0</th>\n",
       "      <td>1</td>\n",
       "      <td>10892</td>\n",
       "      <td>1810824.82</td>\n",
       "      <td>139321</td>\n",
       "      <td>1821313.17</td>\n",
       "    </tr>\n",
       "    <tr>\n",
       "      <th>1</th>\n",
       "      <td>2</td>\n",
       "      <td>13430</td>\n",
       "      <td>2186937.39</td>\n",
       "      <td>172378</td>\n",
       "      <td>2200075.09</td>\n",
       "    </tr>\n",
       "    <tr>\n",
       "      <th>2</th>\n",
       "      <td>3</td>\n",
       "      <td>16978</td>\n",
       "      <td>2789080.80</td>\n",
       "      <td>218611</td>\n",
       "      <td>2804969.51</td>\n",
       "    </tr>\n",
       "    <tr>\n",
       "      <th>3</th>\n",
       "      <td>4</td>\n",
       "      <td>20536</td>\n",
       "      <td>3366218.76</td>\n",
       "      <td>261916</td>\n",
       "      <td>3389217.98</td>\n",
       "    </tr>\n",
       "    <tr>\n",
       "      <th>4</th>\n",
       "      <td>5</td>\n",
       "      <td>18652</td>\n",
       "      <td>3133024.62</td>\n",
       "      <td>238560</td>\n",
       "      <td>3150506.24</td>\n",
       "    </tr>\n",
       "    <tr>\n",
       "      <th>5</th>\n",
       "      <td>6</td>\n",
       "      <td>15233</td>\n",
       "      <td>2560491.51</td>\n",
       "      <td>195214</td>\n",
       "      <td>2576268.16</td>\n",
       "    </tr>\n",
       "    <tr>\n",
       "      <th>6</th>\n",
       "      <td>7</td>\n",
       "      <td>16053</td>\n",
       "      <td>2631075.12</td>\n",
       "      <td>205894</td>\n",
       "      <td>2646311.32</td>\n",
       "    </tr>\n",
       "    <tr>\n",
       "      <th>7</th>\n",
       "      <td>8</td>\n",
       "      <td>13428</td>\n",
       "      <td>2226951.91</td>\n",
       "      <td>172034</td>\n",
       "      <td>2241071.38</td>\n",
       "    </tr>\n",
       "    <tr>\n",
       "      <th>8</th>\n",
       "      <td>9</td>\n",
       "      <td>13090</td>\n",
       "      <td>2081885.70</td>\n",
       "      <td>168183</td>\n",
       "      <td>2094453.74</td>\n",
       "    </tr>\n",
       "    <tr>\n",
       "      <th>9</th>\n",
       "      <td>10</td>\n",
       "      <td>22668</td>\n",
       "      <td>3713008.80</td>\n",
       "      <td>290174</td>\n",
       "      <td>3734177.86</td>\n",
       "    </tr>\n",
       "    <tr>\n",
       "      <th>10</th>\n",
       "      <td>11</td>\n",
       "      <td>19768</td>\n",
       "      <td>3178860.58</td>\n",
       "      <td>254416</td>\n",
       "      <td>3197863.10</td>\n",
       "    </tr>\n",
       "    <tr>\n",
       "      <th>11</th>\n",
       "      <td>12</td>\n",
       "      <td>28073</td>\n",
       "      <td>4583252.82</td>\n",
       "      <td>359411</td>\n",
       "      <td>4608280.75</td>\n",
       "    </tr>\n",
       "  </tbody>\n",
       "</table>\n",
       "</div>"
      ],
      "text/plain": [
       "    month  Quantity Ordered  Price Each    hour       sales\n",
       "0       1             10892  1810824.82  139321  1821313.17\n",
       "1       2             13430  2186937.39  172378  2200075.09\n",
       "2       3             16978  2789080.80  218611  2804969.51\n",
       "3       4             20536  3366218.76  261916  3389217.98\n",
       "4       5             18652  3133024.62  238560  3150506.24\n",
       "5       6             15233  2560491.51  195214  2576268.16\n",
       "6       7             16053  2631075.12  205894  2646311.32\n",
       "7       8             13428  2226951.91  172034  2241071.38\n",
       "8       9             13090  2081885.70  168183  2094453.74\n",
       "9      10             22668  3713008.80  290174  3734177.86\n",
       "10     11             19768  3178860.58  254416  3197863.10\n",
       "11     12             28073  4583252.82  359411  4608280.75"
      ]
     },
     "execution_count": 19,
     "metadata": {},
     "output_type": "execute_result"
    }
   ],
   "source": [
    "sales_per_month = df_allsales_2019.groupby('month').sum().reset_index()\n",
    "sales_per_month"
   ]
  },
  {
   "cell_type": "code",
   "execution_count": 20,
   "id": "012bb6fb-dfc2-47a7-b5e2-9d06101c0f95",
   "metadata": {},
   "outputs": [
    {
     "data": {
      "text/plain": [
       "Text(0, 0.5, 'Sales in USD (million)')"
      ]
     },
     "execution_count": 20,
     "metadata": {},
     "output_type": "execute_result"
    },
    {
     "data": {
      "image/png": "[encoded data removed]",
      "text/plain": [
       "<Figure size 432x288 with 1 Axes>"
      ]
     },
     "metadata": {
      "needs_background": "light"
     },
     "output_type": "display_data"
    }
   ],
   "source": [
    "plt.bar(x= 'month', height= 'sales', data= sales_per_month)\n",
    "plt.title('Monthly Sales')\n",
    "plt.xticks(sales_per_month['month'])\n",
    "#plt.yticks(sales_per_month['sales'])\n",
    "plt.xlabel('Month')\n",
    "plt.ylabel('Sales in USD (million)')"
   ]
  },
  {
   "cell_type": "markdown",
   "id": "54fec1b5-73f4-4f7d-b9d3-4f30e924c3f8",
   "metadata": {},
   "source": [
    "#### Questions to explore:\n",
    "\n",
    "- Why highest sales in Oct-Dec?\n",
    "- Why the increase during Mar-May?  \n",
    "- Why the slight increase in Jul? "
   ]
  },
  {
   "cell_type": "code",
   "execution_count": null,
   "id": "c94b0fdf-b1eb-45c5-b446-1a98cff0e995",
   "metadata": {},
   "outputs": [],
   "source": []
  },
  {
   "cell_type": "markdown",
   "id": "f8af8387-a1bf-40f1-af96-cb5fa82558b4",
   "metadata": {},
   "source": [
    "#### City with highest sales"
   ]
  },
  {
   "cell_type": "code",
   "execution_count": 21,
   "id": "d9829798-042f-4dae-adef-e539507b0362",
   "metadata": {},
   "outputs": [
    {
     "data": {
      "text/html": [
       "<div>\n",
       "<style scoped>\n",
       "    .dataframe tbody tr th:only-of-type {\n",
       "        vertical-align: middle;\n",
       "    }\n",
       "\n",
       "    .dataframe tbody tr th {\n",
       "        vertical-align: top;\n",
       "    }\n",
       "\n",
       "    .dataframe thead th {\n",
       "        text-align: right;\n",
       "    }\n",
       "</style>\n",
       "<table border=\"1\" class=\"dataframe\">\n",
       "  <thead>\n",
       "    <tr style=\"text-align: right;\">\n",
       "      <th></th>\n",
       "      <th>city</th>\n",
       "      <th>Quantity Ordered</th>\n",
       "      <th>Price Each</th>\n",
       "      <th>month</th>\n",
       "      <th>hour</th>\n",
       "      <th>sales</th>\n",
       "    </tr>\n",
       "  </thead>\n",
       "  <tbody>\n",
       "    <tr>\n",
       "      <th>0</th>\n",
       "      <td>Atlanta (GA)</td>\n",
       "      <td>16583</td>\n",
       "      <td>2778604.85</td>\n",
       "      <td>104646</td>\n",
       "      <td>213992</td>\n",
       "      <td>2794195.23</td>\n",
       "    </tr>\n",
       "    <tr>\n",
       "      <th>1</th>\n",
       "      <td>Austin (TX)</td>\n",
       "      <td>11136</td>\n",
       "      <td>1808325.08</td>\n",
       "      <td>69708</td>\n",
       "      <td>141668</td>\n",
       "      <td>1818029.38</td>\n",
       "    </tr>\n",
       "    <tr>\n",
       "      <th>2</th>\n",
       "      <td>Boston (MA)</td>\n",
       "      <td>22492</td>\n",
       "      <td>3633698.41</td>\n",
       "      <td>140887</td>\n",
       "      <td>287678</td>\n",
       "      <td>3657927.66</td>\n",
       "    </tr>\n",
       "    <tr>\n",
       "      <th>3</th>\n",
       "      <td>Dallas (TX)</td>\n",
       "      <td>16707</td>\n",
       "      <td>2750026.38</td>\n",
       "      <td>104447</td>\n",
       "      <td>214078</td>\n",
       "      <td>2765373.96</td>\n",
       "    </tr>\n",
       "    <tr>\n",
       "      <th>4</th>\n",
       "      <td>Los Angeles (CA)</td>\n",
       "      <td>33245</td>\n",
       "      <td>5417147.76</td>\n",
       "      <td>208003</td>\n",
       "      <td>426886</td>\n",
       "      <td>5448280.34</td>\n",
       "    </tr>\n",
       "    <tr>\n",
       "      <th>5</th>\n",
       "      <td>New York City (NY)</td>\n",
       "      <td>27901</td>\n",
       "      <td>4632767.55</td>\n",
       "      <td>175548</td>\n",
       "      <td>357185</td>\n",
       "      <td>4661714.15</td>\n",
       "    </tr>\n",
       "    <tr>\n",
       "      <th>6</th>\n",
       "      <td>Portland (ME)</td>\n",
       "      <td>2746</td>\n",
       "      <td>446752.36</td>\n",
       "      <td>17119</td>\n",
       "      <td>35152</td>\n",
       "      <td>449321.38</td>\n",
       "    </tr>\n",
       "    <tr>\n",
       "      <th>7</th>\n",
       "      <td>Portland (OR)</td>\n",
       "      <td>11291</td>\n",
       "      <td>1859836.44</td>\n",
       "      <td>70517</td>\n",
       "      <td>144242</td>\n",
       "      <td>1870010.56</td>\n",
       "    </tr>\n",
       "    <tr>\n",
       "      <th>8</th>\n",
       "      <td>San Francisco (CA)</td>\n",
       "      <td>50166</td>\n",
       "      <td>8203867.45</td>\n",
       "      <td>314927</td>\n",
       "      <td>642226</td>\n",
       "      <td>8254609.62</td>\n",
       "    </tr>\n",
       "    <tr>\n",
       "      <th>9</th>\n",
       "      <td>Seattle (WA)</td>\n",
       "      <td>16534</td>\n",
       "      <td>2730586.55</td>\n",
       "      <td>104817</td>\n",
       "      <td>213005</td>\n",
       "      <td>2745046.02</td>\n",
       "    </tr>\n",
       "  </tbody>\n",
       "</table>\n",
       "</div>"
      ],
      "text/plain": [
       "                  city  Quantity Ordered  Price Each   month    hour  \\\n",
       "0         Atlanta (GA)             16583  2778604.85  104646  213992   \n",
       "1          Austin (TX)             11136  1808325.08   69708  141668   \n",
       "2          Boston (MA)             22492  3633698.41  140887  287678   \n",
       "3          Dallas (TX)             16707  2750026.38  104447  214078   \n",
       "4     Los Angeles (CA)             33245  5417147.76  208003  426886   \n",
       "5   New York City (NY)             27901  4632767.55  175548  357185   \n",
       "6        Portland (ME)              2746   446752.36   17119   35152   \n",
       "7        Portland (OR)             11291  1859836.44   70517  144242   \n",
       "8   San Francisco (CA)             50166  8203867.45  314927  642226   \n",
       "9         Seattle (WA)             16534  2730586.55  104817  213005   \n",
       "\n",
       "        sales  \n",
       "0  2794195.23  \n",
       "1  1818029.38  \n",
       "2  3657927.66  \n",
       "3  2765373.96  \n",
       "4  5448280.34  \n",
       "5  4661714.15  \n",
       "6   449321.38  \n",
       "7  1870010.56  \n",
       "8  8254609.62  \n",
       "9  2745046.02  "
      ]
     },
     "execution_count": 21,
     "metadata": {},
     "output_type": "execute_result"
    }
   ],
   "source": [
    "sales_per_city= df_allsales_2019.groupby('city').sum().reset_index()\n",
    "sales_per_city"
   ]
  },
  {
   "cell_type": "code",
   "execution_count": 22,
   "id": "adfc00be-6c1f-41f9-9862-c4321ad01f89",
   "metadata": {},
   "outputs": [
    {
     "data": {
      "image/png": "[encoded data removed]",
      "text/plain": [
       "<Figure size 432x288 with 1 Axes>"
      ]
     },
     "metadata": {
      "needs_background": "light"
     },
     "output_type": "display_data"
    }
   ],
   "source": [
    "plt.bar(data= sales_per_city, x= 'city', height= 'sales') \n",
    "plt.title('Sales Per City in USD')\n",
    "plt.xticks(sales_per_city['city'], rotation= 'vertical', size= 8)\n",
    "plt.xlabel('City name')\n",
    "plt.ylabel('Sales in USD millions')\n",
    "plt.show()"
   ]
  },
  {
   "cell_type": "markdown",
   "id": "d39981c7-9f25-46ab-b3e2-284f7a82cfd2",
   "metadata": {},
   "source": [
    "#### Questions to explore:\n",
    "- Why San Francisco booked the highest sales?\n",
    "- Why Portland (ME) has the lowest sales? "
   ]
  },
  {
   "cell_type": "code",
   "execution_count": null,
   "id": "3e480f80-a401-47fc-ac5e-1888d7af9405",
   "metadata": {},
   "outputs": [],
   "source": []
  },
  {
   "cell_type": "markdown",
   "id": "0b3c75c3-e1ca-4166-a6ff-ee0c93f46190",
   "metadata": {},
   "source": [
    "#### Investigating Consumer Behaviour"
   ]
  },
  {
   "cell_type": "markdown",
   "id": "099d4eaa-f835-4d80-b4c7-04cf3129d7a6",
   "metadata": {},
   "source": [
    "#### Popular shopping time "
   ]
  },
  {
   "cell_type": "code",
   "execution_count": 23,
   "id": "494caed3-f6bb-402a-8eb3-b184e07ac32d",
   "metadata": {},
   "outputs": [],
   "source": [
    "sales_based_on_hour= df_allsales_2019.groupby('hour').sum().reset_index()"
   ]
  },
  {
   "cell_type": "code",
   "execution_count": 24,
   "id": "32ffe857-3caf-4da1-9e5d-83145cf95300",
   "metadata": {},
   "outputs": [
    {
     "data": {
      "text/plain": [
       "Text(0, 0.5, 'Sales in USD millions')"
      ]
     },
     "execution_count": 24,
     "metadata": {},
     "output_type": "execute_result"
    },
    {
     "data": {
      "image/png": "[encoded data removed]",
      "text/plain": [
       "<Figure size 432x288 with 1 Axes>"
      ]
     },
     "metadata": {
      "needs_background": "light"
     },
     "output_type": "display_data"
    }
   ],
   "source": [
    "plt.plot(sales_based_on_hour['hour'], sales_based_on_hour['sales'])\n",
    "plt.title('Total Sales Based on Hour')\n",
    "plt.xticks(sales_based_on_hour['hour'])\n",
    "plt.xlabel('Hour')\n",
    "plt.ylabel('Sales in USD millions')"
   ]
  },
  {
   "cell_type": "code",
   "execution_count": 25,
   "id": "cc5473c5-adb8-4fa5-919e-e235b61182a5",
   "metadata": {},
   "outputs": [],
   "source": [
    "number_oforders_perhour = df_allsales_2019.groupby('hour').count().reset_index()"
   ]
  },
  {
   "cell_type": "code",
   "execution_count": 26,
   "id": "87440195-6f64-4303-8035-f907bb6633f7",
   "metadata": {},
   "outputs": [
    {
     "data": {
      "image/png": "[encoded data removed]",
      "text/plain": [
       "<Figure size 432x288 with 1 Axes>"
      ]
     },
     "metadata": {
      "needs_background": "light"
     },
     "output_type": "display_data"
    }
   ],
   "source": [
    "plt.plot(number_oforders_perhour['hour'], number_oforders_perhour['sales'])\n",
    "plt.title('Orders Made Based on Hour')\n",
    "plt.xticks(sales_based_on_hour['hour'])\n",
    "plt.xlabel('Hour')\n",
    "plt.ylabel('Number of Orders')\n",
    "plt.grid()"
   ]
  },
  {
   "cell_type": "markdown",
   "id": "8ed095c1-4caa-4db0-90ba-53f8540ade8d",
   "metadata": {},
   "source": [
    "#### Questions to explore:\n",
    "- Peak sales and orders are the same in 11.00 and 19.00. Why during those times?\n",
    "- Best targetted advertisement time? "
   ]
  },
  {
   "cell_type": "code",
   "execution_count": 27,
   "id": "b505f7cb-aa15-4142-961d-b94bdd2de544",
   "metadata": {},
   "outputs": [],
   "source": [
    "# Same behaviour in all cities?"
   ]
  },
  {
   "cell_type": "code",
   "execution_count": 29,
   "id": "4070ebea-d9c8-4aea-a6d8-332274e35b3e",
   "metadata": {},
   "outputs": [
    {
     "data": {
      "text/html": [
       "<div>\n",
       "<style scoped>\n",
       "    .dataframe tbody tr th:only-of-type {\n",
       "        vertical-align: middle;\n",
       "    }\n",
       "\n",
       "    .dataframe tbody tr th {\n",
       "        vertical-align: top;\n",
       "    }\n",
       "\n",
       "    .dataframe thead th {\n",
       "        text-align: right;\n",
       "    }\n",
       "</style>\n",
       "<table border=\"1\" class=\"dataframe\">\n",
       "  <thead>\n",
       "    <tr style=\"text-align: right;\">\n",
       "      <th></th>\n",
       "      <th>city</th>\n",
       "      <th>hour</th>\n",
       "      <th>Quantity Ordered</th>\n",
       "      <th>Price Each</th>\n",
       "      <th>month</th>\n",
       "      <th>sales</th>\n",
       "    </tr>\n",
       "  </thead>\n",
       "  <tbody>\n",
       "    <tr>\n",
       "      <th>0</th>\n",
       "      <td>Atlanta (GA)</td>\n",
       "      <td>0</td>\n",
       "      <td>357</td>\n",
       "      <td>62435.44</td>\n",
       "      <td>2165</td>\n",
       "      <td>62855.02</td>\n",
       "    </tr>\n",
       "    <tr>\n",
       "      <th>1</th>\n",
       "      <td>Atlanta (GA)</td>\n",
       "      <td>1</td>\n",
       "      <td>236</td>\n",
       "      <td>44191.50</td>\n",
       "      <td>1484</td>\n",
       "      <td>44443.32</td>\n",
       "    </tr>\n",
       "    <tr>\n",
       "      <th>2</th>\n",
       "      <td>Atlanta (GA)</td>\n",
       "      <td>2</td>\n",
       "      <td>116</td>\n",
       "      <td>25176.53</td>\n",
       "      <td>788</td>\n",
       "      <td>25199.15</td>\n",
       "    </tr>\n",
       "    <tr>\n",
       "      <th>3</th>\n",
       "      <td>Atlanta (GA)</td>\n",
       "      <td>3</td>\n",
       "      <td>68</td>\n",
       "      <td>6983.90</td>\n",
       "      <td>445</td>\n",
       "      <td>7018.49</td>\n",
       "    </tr>\n",
       "    <tr>\n",
       "      <th>4</th>\n",
       "      <td>Atlanta (GA)</td>\n",
       "      <td>4</td>\n",
       "      <td>88</td>\n",
       "      <td>18906.69</td>\n",
       "      <td>558</td>\n",
       "      <td>18954.97</td>\n",
       "    </tr>\n",
       "    <tr>\n",
       "      <th>...</th>\n",
       "      <td>...</td>\n",
       "      <td>...</td>\n",
       "      <td>...</td>\n",
       "      <td>...</td>\n",
       "      <td>...</td>\n",
       "      <td>...</td>\n",
       "    </tr>\n",
       "    <tr>\n",
       "      <th>235</th>\n",
       "      <td>Seattle (WA)</td>\n",
       "      <td>19</td>\n",
       "      <td>1085</td>\n",
       "      <td>182891.44</td>\n",
       "      <td>7123</td>\n",
       "      <td>183667.61</td>\n",
       "    </tr>\n",
       "    <tr>\n",
       "      <th>236</th>\n",
       "      <td>Seattle (WA)</td>\n",
       "      <td>20</td>\n",
       "      <td>1119</td>\n",
       "      <td>167493.05</td>\n",
       "      <td>7052</td>\n",
       "      <td>168681.88</td>\n",
       "    </tr>\n",
       "    <tr>\n",
       "      <th>237</th>\n",
       "      <td>Seattle (WA)</td>\n",
       "      <td>21</td>\n",
       "      <td>968</td>\n",
       "      <td>170138.75</td>\n",
       "      <td>6175</td>\n",
       "      <td>170702.97</td>\n",
       "    </tr>\n",
       "    <tr>\n",
       "      <th>238</th>\n",
       "      <td>Seattle (WA)</td>\n",
       "      <td>22</td>\n",
       "      <td>785</td>\n",
       "      <td>136158.11</td>\n",
       "      <td>4922</td>\n",
       "      <td>136919.63</td>\n",
       "    </tr>\n",
       "    <tr>\n",
       "      <th>239</th>\n",
       "      <td>Seattle (WA)</td>\n",
       "      <td>23</td>\n",
       "      <td>616</td>\n",
       "      <td>102274.99</td>\n",
       "      <td>3842</td>\n",
       "      <td>102791.01</td>\n",
       "    </tr>\n",
       "  </tbody>\n",
       "</table>\n",
       "<p>240 rows × 6 columns</p>\n",
       "</div>"
      ],
      "text/plain": [
       "              city  hour  Quantity Ordered  Price Each  month      sales\n",
       "0     Atlanta (GA)     0               357    62435.44   2165   62855.02\n",
       "1     Atlanta (GA)     1               236    44191.50   1484   44443.32\n",
       "2     Atlanta (GA)     2               116    25176.53    788   25199.15\n",
       "3     Atlanta (GA)     3                68     6983.90    445    7018.49\n",
       "4     Atlanta (GA)     4                88    18906.69    558   18954.97\n",
       "..             ...   ...               ...         ...    ...        ...\n",
       "235   Seattle (WA)    19              1085   182891.44   7123  183667.61\n",
       "236   Seattle (WA)    20              1119   167493.05   7052  168681.88\n",
       "237   Seattle (WA)    21               968   170138.75   6175  170702.97\n",
       "238   Seattle (WA)    22               785   136158.11   4922  136919.63\n",
       "239   Seattle (WA)    23               616   102274.99   3842  102791.01\n",
       "\n",
       "[240 rows x 6 columns]"
      ]
     },
     "execution_count": 29,
     "metadata": {},
     "output_type": "execute_result"
    }
   ],
   "source": [
    "df_allsales_2019.groupby(['city', 'hour']).sum().reset_index()"
   ]
  },
  {
   "cell_type": "code",
   "execution_count": 31,
   "id": "9c3e5a2d-6071-4c70-9c4e-6d2fb16b0f28",
   "metadata": {},
   "outputs": [
    {
     "data": {
      "image/png": "[encoded data removed]",
      "text/plain": [
       "<Figure size 432x288 with 10 Axes>"
      ]
     },
     "metadata": {
      "needs_background": "light"
     },
     "output_type": "display_data"
    }
   ],
   "source": [
    "fig, axs = plt.subplots(2,5)"
   ]
  },
  {
   "cell_type": "code",
   "execution_count": null,
   "id": "0a188910-4902-4a58-a37d-2aeed2bf171a",
   "metadata": {},
   "outputs": [],
   "source": []
  },
  {
   "cell_type": "code",
   "execution_count": null,
   "id": "0e86ee7b-26bd-45b2-b776-96d6945cce0c",
   "metadata": {},
   "outputs": [],
   "source": []
  },
  {
   "cell_type": "code",
   "execution_count": null,
   "id": "86875353-1ea0-4258-a50b-3d4f3c841ece",
   "metadata": {},
   "outputs": [],
   "source": []
  },
  {
   "cell_type": "code",
   "execution_count": null,
   "id": "78da22ea-09e5-4ffe-91a6-5df6b2342241",
   "metadata": {},
   "outputs": [],
   "source": []
  },
  {
   "cell_type": "code",
   "execution_count": 32,
   "id": "3b70cfe8-6238-429a-b162-5f642b84d431",
   "metadata": {},
   "outputs": [
    {
     "data": {
      "text/html": [
       "<div>\n",
       "<style scoped>\n",
       "    .dataframe tbody tr th:only-of-type {\n",
       "        vertical-align: middle;\n",
       "    }\n",
       "\n",
       "    .dataframe tbody tr th {\n",
       "        vertical-align: top;\n",
       "    }\n",
       "\n",
       "    .dataframe thead th {\n",
       "        text-align: right;\n",
       "    }\n",
       "</style>\n",
       "<table border=\"1\" class=\"dataframe\">\n",
       "  <thead>\n",
       "    <tr style=\"text-align: right;\">\n",
       "      <th></th>\n",
       "      <th>Order ID</th>\n",
       "      <th>Product</th>\n",
       "      <th>Quantity Ordered</th>\n",
       "      <th>Price Each</th>\n",
       "      <th>Order Date</th>\n",
       "      <th>Purchase Address</th>\n",
       "      <th>month</th>\n",
       "      <th>day_of_week</th>\n",
       "      <th>hour</th>\n",
       "      <th>sales</th>\n",
       "      <th>city</th>\n",
       "    </tr>\n",
       "  </thead>\n",
       "  <tbody>\n",
       "    <tr>\n",
       "      <th>0</th>\n",
       "      <td>176558</td>\n",
       "      <td>USB-C Charging Cable</td>\n",
       "      <td>2</td>\n",
       "      <td>11.95</td>\n",
       "      <td>2019-04-19 08:46:00</td>\n",
       "      <td>917 1st St, Dallas, TX 75001</td>\n",
       "      <td>4</td>\n",
       "      <td>Friday</td>\n",
       "      <td>8</td>\n",
       "      <td>23.90</td>\n",
       "      <td>Dallas (TX)</td>\n",
       "    </tr>\n",
       "    <tr>\n",
       "      <th>1</th>\n",
       "      <td>176559</td>\n",
       "      <td>Bose SoundSport Headphones</td>\n",
       "      <td>1</td>\n",
       "      <td>99.99</td>\n",
       "      <td>2019-04-07 22:30:00</td>\n",
       "      <td>682 Chestnut St, Boston, MA 02215</td>\n",
       "      <td>4</td>\n",
       "      <td>Sunday</td>\n",
       "      <td>22</td>\n",
       "      <td>99.99</td>\n",
       "      <td>Boston (MA)</td>\n",
       "    </tr>\n",
       "    <tr>\n",
       "      <th>2</th>\n",
       "      <td>176560</td>\n",
       "      <td>Google Phone</td>\n",
       "      <td>1</td>\n",
       "      <td>600.00</td>\n",
       "      <td>2019-04-12 14:38:00</td>\n",
       "      <td>669 Spruce St, Los Angeles, CA 90001</td>\n",
       "      <td>4</td>\n",
       "      <td>Friday</td>\n",
       "      <td>14</td>\n",
       "      <td>600.00</td>\n",
       "      <td>Los Angeles (CA)</td>\n",
       "    </tr>\n",
       "    <tr>\n",
       "      <th>3</th>\n",
       "      <td>176560</td>\n",
       "      <td>Wired Headphones</td>\n",
       "      <td>1</td>\n",
       "      <td>11.99</td>\n",
       "      <td>2019-04-12 14:38:00</td>\n",
       "      <td>669 Spruce St, Los Angeles, CA 90001</td>\n",
       "      <td>4</td>\n",
       "      <td>Friday</td>\n",
       "      <td>14</td>\n",
       "      <td>11.99</td>\n",
       "      <td>Los Angeles (CA)</td>\n",
       "    </tr>\n",
       "    <tr>\n",
       "      <th>4</th>\n",
       "      <td>176561</td>\n",
       "      <td>Wired Headphones</td>\n",
       "      <td>1</td>\n",
       "      <td>11.99</td>\n",
       "      <td>2019-04-30 09:27:00</td>\n",
       "      <td>333 8th St, Los Angeles, CA 90001</td>\n",
       "      <td>4</td>\n",
       "      <td>Tuesday</td>\n",
       "      <td>9</td>\n",
       "      <td>11.99</td>\n",
       "      <td>Los Angeles (CA)</td>\n",
       "    </tr>\n",
       "  </tbody>\n",
       "</table>\n",
       "</div>"
      ],
      "text/plain": [
       "  Order ID                     Product  Quantity Ordered  Price Each  \\\n",
       "0   176558        USB-C Charging Cable                 2       11.95   \n",
       "1   176559  Bose SoundSport Headphones                 1       99.99   \n",
       "2   176560                Google Phone                 1      600.00   \n",
       "3   176560            Wired Headphones                 1       11.99   \n",
       "4   176561            Wired Headphones                 1       11.99   \n",
       "\n",
       "           Order Date                      Purchase Address  month  \\\n",
       "0 2019-04-19 08:46:00          917 1st St, Dallas, TX 75001      4   \n",
       "1 2019-04-07 22:30:00     682 Chestnut St, Boston, MA 02215      4   \n",
       "2 2019-04-12 14:38:00  669 Spruce St, Los Angeles, CA 90001      4   \n",
       "3 2019-04-12 14:38:00  669 Spruce St, Los Angeles, CA 90001      4   \n",
       "4 2019-04-30 09:27:00     333 8th St, Los Angeles, CA 90001      4   \n",
       "\n",
       "  day_of_week  hour   sales               city  \n",
       "0      Friday     8   23.90        Dallas (TX)  \n",
       "1      Sunday    22   99.99        Boston (MA)  \n",
       "2      Friday    14  600.00   Los Angeles (CA)  \n",
       "3      Friday    14   11.99   Los Angeles (CA)  \n",
       "4     Tuesday     9   11.99   Los Angeles (CA)  "
      ]
     },
     "execution_count": 32,
     "metadata": {},
     "output_type": "execute_result"
    }
   ],
   "source": [
    "df_allsales_2019.head()"
   ]
  },
  {
   "cell_type": "markdown",
   "id": "cd2768b4-bf46-40f0-bbc6-49685481d6ba",
   "metadata": {},
   "source": [
    "#### Popular Products"
   ]
  },
  {
   "cell_type": "code",
   "execution_count": 102,
   "id": "d755c9ca-8484-4108-b186-18ac4c258c4e",
   "metadata": {},
   "outputs": [
    {
     "data": {
      "text/html": [
       "<div>\n",
       "<style scoped>\n",
       "    .dataframe tbody tr th:only-of-type {\n",
       "        vertical-align: middle;\n",
       "    }\n",
       "\n",
       "    .dataframe tbody tr th {\n",
       "        vertical-align: top;\n",
       "    }\n",
       "\n",
       "    .dataframe thead th {\n",
       "        text-align: right;\n",
       "    }\n",
       "</style>\n",
       "<table border=\"1\" class=\"dataframe\">\n",
       "  <thead>\n",
       "    <tr style=\"text-align: right;\">\n",
       "      <th></th>\n",
       "      <th>Product</th>\n",
       "      <th>Quantity Ordered</th>\n",
       "      <th>sales</th>\n",
       "    </tr>\n",
       "  </thead>\n",
       "  <tbody>\n",
       "    <tr>\n",
       "      <th>0</th>\n",
       "      <td>20in Monitor</td>\n",
       "      <td>4125</td>\n",
       "      <td>453708.75</td>\n",
       "    </tr>\n",
       "    <tr>\n",
       "      <th>1</th>\n",
       "      <td>27in 4K Gaming Monitor</td>\n",
       "      <td>6239</td>\n",
       "      <td>2433147.61</td>\n",
       "    </tr>\n",
       "    <tr>\n",
       "      <th>2</th>\n",
       "      <td>27in FHD Monitor</td>\n",
       "      <td>7541</td>\n",
       "      <td>1131074.59</td>\n",
       "    </tr>\n",
       "    <tr>\n",
       "      <th>3</th>\n",
       "      <td>34in Ultrawide Monitor</td>\n",
       "      <td>6192</td>\n",
       "      <td>2352898.08</td>\n",
       "    </tr>\n",
       "    <tr>\n",
       "      <th>4</th>\n",
       "      <td>AA Batteries (4-pack)</td>\n",
       "      <td>27614</td>\n",
       "      <td>106037.76</td>\n",
       "    </tr>\n",
       "  </tbody>\n",
       "</table>\n",
       "</div>"
      ],
      "text/plain": [
       "                  Product  Quantity Ordered       sales\n",
       "0            20in Monitor              4125   453708.75\n",
       "1  27in 4K Gaming Monitor              6239  2433147.61\n",
       "2        27in FHD Monitor              7541  1131074.59\n",
       "3  34in Ultrawide Monitor              6192  2352898.08\n",
       "4   AA Batteries (4-pack)             27614   106037.76"
      ]
     },
     "execution_count": 102,
     "metadata": {},
     "output_type": "execute_result"
    }
   ],
   "source": [
    "sales_per_product= df_allsales_2019.groupby('Product')[['Quantity Ordered', 'sales']].sum().reset_index()\n",
    "sales_per_product.head()"
   ]
  },
  {
   "cell_type": "code",
   "execution_count": 77,
   "id": "8c9444eb-f6f9-4f39-9b74-8d36b7dd4817",
   "metadata": {},
   "outputs": [
    {
     "data": {
      "text/plain": [
       "Text(0, 0.5, 'Sales in USD (millions)')"
      ]
     },
     "execution_count": 77,
     "metadata": {},
     "output_type": "execute_result"
    },
    {
     "data": {
      "image/png": "[encoded data removed]",
      "text/plain": [
       "<Figure size 1800x576 with 2 Axes>"
      ]
     },
     "metadata": {
      "needs_background": "light"
     },
     "output_type": "display_data"
    }
   ],
   "source": [
    "plt.figure(figsize=(25,8))\n",
    "\n",
    "plt.subplot(1,2,1)\n",
    "plt.bar(data= sales_per_product, x='Product', height='Quantity Ordered')\n",
    "plt.title('Number of Orders per Product')\n",
    "plt.xticks(sales_per_product['Product'], rotation= 'vertical', size= 20)\n",
    "plt.xlabel('products')\n",
    "plt.ylabel('Number of Orders')\n",
    "\n",
    "\n",
    "\n",
    "plt.subplot(1,2,2)\n",
    "plt.bar(data= sales_per_product, x='Product', height='sales', color= 'g')\n",
    "plt.title('Sales per Product')\n",
    "plt.xticks(sales_per_product['Product'], rotation= 'vertical', size= 20)\n",
    "plt.xlabel('products')\n",
    "plt.ylabel('Sales in USD (millions)')\n",
    "\n"
   ]
  },
  {
   "cell_type": "code",
   "execution_count": null,
   "id": "5bf23c9a-4e15-4e44-885e-a71a1c0ca7fd",
   "metadata": {},
   "outputs": [],
   "source": []
  },
  {
   "cell_type": "code",
   "execution_count": 128,
   "id": "41adc1cb-3c09-40e2-a398-e4a844e5f26e",
   "metadata": {},
   "outputs": [
    {
     "name": "stderr",
     "output_type": "stream",
     "text": [
      "<ipython-input-128-9179953dd3f2>:13: UserWarning: FixedFormatter should only be used together with FixedLocator\n",
      "  ax1.set_xticklabels(sales_per_product['Product'], rotation= 'vertical', size= 10)\n"
     ]
    },
    {
     "data": {
      "text/plain": [
       "Text(0, 0.5, 'Prices in USD')"
      ]
     },
     "execution_count": 128,
     "metadata": {},
     "output_type": "execute_result"
    },
    {
     "data": {
      "text/plain": [
       "<Figure size 1800x576 with 0 Axes>"
      ]
     },
     "metadata": {},
     "output_type": "display_data"
    },
    {
     "data": {
      "image/png": "[encoded data removed]",
      "text/plain": [
       "<Figure size 432x288 with 2 Axes>"
      ]
     },
     "metadata": {
      "needs_background": "light"
     },
     "output_type": "display_data"
    }
   ],
   "source": [
    "# To add prices in our graph\n",
    "prices = df_allsales_2019.groupby('Product')['Price Each'].mean().reset_index()\n",
    "\n",
    "plt.figure(figsize=(25,8))\n",
    "\n",
    "fig, ax1 = plt.subplots()\n",
    "\n",
    "ax2 = ax1.twinx()  # creating twin axes, sharing x axis\n",
    "ax1.bar(data= sales_per_product, x='Product', height='Quantity Ordered', color= 'y')\n",
    "ax2.plot(prices['Product'], prices['Price Each'], color= 'm')\n",
    "\n",
    "plt.title('Number of Orders per Product')\n",
    "ax1.set_xticklabels(sales_per_product['Product'], rotation= 'vertical', size= 10)\n",
    "ax1.set_xlabel('products')\n",
    "ax1.set_ylabel('Number of Orders', color= 'y')\n",
    "ax2.set_ylabel('Prices in USD', color= 'm')\n",
    "\n",
    "\n"
   ]
  },
  {
   "cell_type": "code",
   "execution_count": null,
   "id": "f4153ee8-6415-45aa-9a5a-65c6912a4a9a",
   "metadata": {},
   "outputs": [],
   "source": []
  },
  {
   "cell_type": "code",
   "execution_count": null,
   "id": "475759ec-5b31-4fa6-a923-4919bb4840f1",
   "metadata": {},
   "outputs": [],
   "source": []
  },
  {
   "cell_type": "markdown",
   "id": "773d9ead-037b-4050-90b0-1b3bd45f46d4",
   "metadata": {},
   "source": [
    "#### Frequently Purchased Together"
   ]
  },
  {
   "cell_type": "code",
   "execution_count": 86,
   "id": "98df0f72-28ba-4809-974a-0af2492bf532",
   "metadata": {},
   "outputs": [
    {
     "data": {
      "text/html": [
       "<div>\n",
       "<style scoped>\n",
       "    .dataframe tbody tr th:only-of-type {\n",
       "        vertical-align: middle;\n",
       "    }\n",
       "\n",
       "    .dataframe tbody tr th {\n",
       "        vertical-align: top;\n",
       "    }\n",
       "\n",
       "    .dataframe thead th {\n",
       "        text-align: right;\n",
       "    }\n",
       "</style>\n",
       "<table border=\"1\" class=\"dataframe\">\n",
       "  <thead>\n",
       "    <tr style=\"text-align: right;\">\n",
       "      <th></th>\n",
       "      <th>Order ID</th>\n",
       "      <th>Product</th>\n",
       "      <th>Quantity Ordered</th>\n",
       "      <th>Price Each</th>\n",
       "      <th>Order Date</th>\n",
       "      <th>Purchase Address</th>\n",
       "      <th>month</th>\n",
       "      <th>day_of_week</th>\n",
       "      <th>hour</th>\n",
       "      <th>sales</th>\n",
       "      <th>city</th>\n",
       "    </tr>\n",
       "  </thead>\n",
       "  <tbody>\n",
       "    <tr>\n",
       "      <th>2</th>\n",
       "      <td>176560</td>\n",
       "      <td>Google Phone</td>\n",
       "      <td>1</td>\n",
       "      <td>600.00</td>\n",
       "      <td>2019-04-12 14:38:00</td>\n",
       "      <td>669 Spruce St, Los Angeles, CA 90001</td>\n",
       "      <td>4</td>\n",
       "      <td>Friday</td>\n",
       "      <td>14</td>\n",
       "      <td>600.00</td>\n",
       "      <td>Los Angeles (CA)</td>\n",
       "    </tr>\n",
       "    <tr>\n",
       "      <th>3</th>\n",
       "      <td>176560</td>\n",
       "      <td>Wired Headphones</td>\n",
       "      <td>1</td>\n",
       "      <td>11.99</td>\n",
       "      <td>2019-04-12 14:38:00</td>\n",
       "      <td>669 Spruce St, Los Angeles, CA 90001</td>\n",
       "      <td>4</td>\n",
       "      <td>Friday</td>\n",
       "      <td>14</td>\n",
       "      <td>11.99</td>\n",
       "      <td>Los Angeles (CA)</td>\n",
       "    </tr>\n",
       "  </tbody>\n",
       "</table>\n",
       "</div>"
      ],
      "text/plain": [
       "  Order ID           Product  Quantity Ordered  Price Each  \\\n",
       "2   176560      Google Phone                 1      600.00   \n",
       "3   176560  Wired Headphones                 1       11.99   \n",
       "\n",
       "           Order Date                      Purchase Address  month  \\\n",
       "2 2019-04-12 14:38:00  669 Spruce St, Los Angeles, CA 90001      4   \n",
       "3 2019-04-12 14:38:00  669 Spruce St, Los Angeles, CA 90001      4   \n",
       "\n",
       "  day_of_week  hour   sales               city  \n",
       "2      Friday    14  600.00   Los Angeles (CA)  \n",
       "3      Friday    14   11.99   Los Angeles (CA)  "
      ]
     },
     "execution_count": 86,
     "metadata": {},
     "output_type": "execute_result"
    }
   ],
   "source": [
    "# Find orders with more than 1 items \n",
    "\n",
    "duplicate_order_id = df_allsales_2019[df_allsales_2019['Order ID'].duplicated(keep= False)]\n",
    "\n",
    "duplicate_order_id.head(2)"
   ]
  },
  {
   "cell_type": "code",
   "execution_count": 88,
   "id": "5e68d906-a480-4e48-ac56-38ce3474811e",
   "metadata": {},
   "outputs": [
    {
     "name": "stderr",
     "output_type": "stream",
     "text": [
      "<ipython-input-88-df44ae1f1202>:1: SettingWithCopyWarning: \n",
      "A value is trying to be set on a copy of a slice from a DataFrame.\n",
      "Try using .loc[row_indexer,col_indexer] = value instead\n",
      "\n",
      "See the caveats in the documentation: https://pandas.pydata.org/pandas-docs/stable/user_guide/indexing.html#returning-a-view-versus-a-copy\n",
      "  duplicate_order_id['grouped'] = duplicate_order_id.groupby('Order ID')['Product'].transform(lambda x: ','.join(x))\n"
     ]
    },
    {
     "data": {
      "text/html": [
       "<div>\n",
       "<style scoped>\n",
       "    .dataframe tbody tr th:only-of-type {\n",
       "        vertical-align: middle;\n",
       "    }\n",
       "\n",
       "    .dataframe tbody tr th {\n",
       "        vertical-align: top;\n",
       "    }\n",
       "\n",
       "    .dataframe thead th {\n",
       "        text-align: right;\n",
       "    }\n",
       "</style>\n",
       "<table border=\"1\" class=\"dataframe\">\n",
       "  <thead>\n",
       "    <tr style=\"text-align: right;\">\n",
       "      <th></th>\n",
       "      <th>Order ID</th>\n",
       "      <th>Product</th>\n",
       "      <th>Quantity Ordered</th>\n",
       "      <th>Price Each</th>\n",
       "      <th>Order Date</th>\n",
       "      <th>Purchase Address</th>\n",
       "      <th>month</th>\n",
       "      <th>day_of_week</th>\n",
       "      <th>hour</th>\n",
       "      <th>sales</th>\n",
       "      <th>city</th>\n",
       "      <th>grouped</th>\n",
       "    </tr>\n",
       "  </thead>\n",
       "  <tbody>\n",
       "    <tr>\n",
       "      <th>2</th>\n",
       "      <td>176560</td>\n",
       "      <td>Google Phone</td>\n",
       "      <td>1</td>\n",
       "      <td>600.00</td>\n",
       "      <td>2019-04-12 14:38:00</td>\n",
       "      <td>669 Spruce St, Los Angeles, CA 90001</td>\n",
       "      <td>4</td>\n",
       "      <td>Friday</td>\n",
       "      <td>14</td>\n",
       "      <td>600.00</td>\n",
       "      <td>Los Angeles (CA)</td>\n",
       "      <td>Google Phone,Wired Headphones</td>\n",
       "    </tr>\n",
       "    <tr>\n",
       "      <th>3</th>\n",
       "      <td>176560</td>\n",
       "      <td>Wired Headphones</td>\n",
       "      <td>1</td>\n",
       "      <td>11.99</td>\n",
       "      <td>2019-04-12 14:38:00</td>\n",
       "      <td>669 Spruce St, Los Angeles, CA 90001</td>\n",
       "      <td>4</td>\n",
       "      <td>Friday</td>\n",
       "      <td>14</td>\n",
       "      <td>11.99</td>\n",
       "      <td>Los Angeles (CA)</td>\n",
       "      <td>Google Phone,Wired Headphones</td>\n",
       "    </tr>\n",
       "  </tbody>\n",
       "</table>\n",
       "</div>"
      ],
      "text/plain": [
       "  Order ID           Product  Quantity Ordered  Price Each  \\\n",
       "2   176560      Google Phone                 1      600.00   \n",
       "3   176560  Wired Headphones                 1       11.99   \n",
       "\n",
       "           Order Date                      Purchase Address  month  \\\n",
       "2 2019-04-12 14:38:00  669 Spruce St, Los Angeles, CA 90001      4   \n",
       "3 2019-04-12 14:38:00  669 Spruce St, Los Angeles, CA 90001      4   \n",
       "\n",
       "  day_of_week  hour   sales               city                        grouped  \n",
       "2      Friday    14  600.00   Los Angeles (CA)  Google Phone,Wired Headphones  \n",
       "3      Friday    14   11.99   Los Angeles (CA)  Google Phone,Wired Headphones  "
      ]
     },
     "execution_count": 88,
     "metadata": {},
     "output_type": "execute_result"
    }
   ],
   "source": [
    "# Combine all products in the same Order ID in a single line. \n",
    " \n",
    "duplicate_order_id['grouped'] = duplicate_order_id.groupby('Order ID')['Product'].transform(lambda x: ','.join(x))\n",
    "\n",
    "duplicate_order_id.head(2)\n",
    "\n",
    "# Notice that duplicate Order ID remained. "
   ]
  },
  {
   "cell_type": "code",
   "execution_count": 90,
   "id": "7578de94-4802-462c-9759-911c8e7e2d8b",
   "metadata": {},
   "outputs": [
    {
     "data": {
      "text/html": [
       "<div>\n",
       "<style scoped>\n",
       "    .dataframe tbody tr th:only-of-type {\n",
       "        vertical-align: middle;\n",
       "    }\n",
       "\n",
       "    .dataframe tbody tr th {\n",
       "        vertical-align: top;\n",
       "    }\n",
       "\n",
       "    .dataframe thead th {\n",
       "        text-align: right;\n",
       "    }\n",
       "</style>\n",
       "<table border=\"1\" class=\"dataframe\">\n",
       "  <thead>\n",
       "    <tr style=\"text-align: right;\">\n",
       "      <th></th>\n",
       "      <th>Order ID</th>\n",
       "      <th>grouped</th>\n",
       "    </tr>\n",
       "  </thead>\n",
       "  <tbody>\n",
       "    <tr>\n",
       "      <th>2</th>\n",
       "      <td>176560</td>\n",
       "      <td>Google Phone,Wired Headphones</td>\n",
       "    </tr>\n",
       "    <tr>\n",
       "      <th>17</th>\n",
       "      <td>176574</td>\n",
       "      <td>Google Phone,USB-C Charging Cable</td>\n",
       "    </tr>\n",
       "    <tr>\n",
       "      <th>30</th>\n",
       "      <td>176586</td>\n",
       "      <td>AAA Batteries (4-pack),Google Phone</td>\n",
       "    </tr>\n",
       "    <tr>\n",
       "      <th>117</th>\n",
       "      <td>176672</td>\n",
       "      <td>Lightning Charging Cable,USB-C Charging Cable</td>\n",
       "    </tr>\n",
       "    <tr>\n",
       "      <th>127</th>\n",
       "      <td>176681</td>\n",
       "      <td>Apple Airpods Headphones,ThinkPad Laptop</td>\n",
       "    </tr>\n",
       "  </tbody>\n",
       "</table>\n",
       "</div>"
      ],
      "text/plain": [
       "    Order ID                                        grouped\n",
       "2     176560                  Google Phone,Wired Headphones\n",
       "17    176574              Google Phone,USB-C Charging Cable\n",
       "30    176586            AAA Batteries (4-pack),Google Phone\n",
       "117   176672  Lightning Charging Cable,USB-C Charging Cable\n",
       "127   176681       Apple Airpods Headphones,ThinkPad Laptop"
      ]
     },
     "execution_count": 90,
     "metadata": {},
     "output_type": "execute_result"
    }
   ],
   "source": [
    "# Removing duplicate Order ID\n",
    "\n",
    "product_mix = duplicate_order_id[['Order ID', 'grouped']].drop_duplicates()\n",
    "product_mix.head()"
   ]
  },
  {
   "cell_type": "code",
   "execution_count": 101,
   "id": "fa3920bc-b628-4f9f-a491-65df1d494f38",
   "metadata": {},
   "outputs": [
    {
     "name": "stdout",
     "output_type": "stream",
     "text": [
      "('iPhone', 'Lightning Charging Cable', 'Apple Airpods Headphones', 'Wired Headphones') 4\n",
      "('Google Phone', 'USB-C Charging Cable', 'Bose SoundSport Headphones', 'Wired Headphones') 3\n",
      "('Vareebadd Phone', 'USB-C Charging Cable', 'Bose SoundSport Headphones', 'Wired Headphones') 2\n",
      "('iPhone', 'Lightning Charging Cable', 'Wired Headphones', 'AA Batteries (4-pack)') 1\n",
      "('Google Phone', 'USB-C Charging Cable', 'Bose SoundSport Headphones', '34in Ultrawide Monitor') 1\n",
      "('Google Phone', 'USB-C Charging Cable', 'Wired Headphones', 'Apple Airpods Headphones') 1\n",
      "('iPhone', 'Lightning Charging Cable', 'Apple Airpods Headphones', 'Google Phone') 1\n",
      "('iPhone', 'Lightning Charging Cable', 'Wired Headphones', 'Google Phone') 1\n",
      "('iPhone', 'Apple Airpods Headphones', 'Wired Headphones', 'Google Phone') 1\n",
      "('Lightning Charging Cable', 'Apple Airpods Headphones', 'Wired Headphones', 'Google Phone') 1\n"
     ]
    }
   ],
   "source": [
    "# counting order with certain product pairs; using itertools\n",
    "# Referenced: https://stackoverflow.com/questions/52195887/counting-unique-pairs-of-numbers-into-a-python-dictionary\n",
    "\n",
    "from itertools import combinations\n",
    "from collections import Counter\n",
    "\n",
    "count = Counter()\n",
    "\n",
    "for row in product_mix['grouped']:\n",
    "    row_list = row.split(',')  # need to convert 'grouped' columns into a sublist\n",
    "    count.update(Counter(combinations(row_list, 4)))  # 2 or 3 or 4 etc --> only counts rows with 2 or 3 or 4 items \n",
    "\n",
    "count.most_common(10)\n",
    "\n",
    "# or use \n",
    "\n",
    "for key, value in count.most_common(10):\n",
    "    print(key, value)"
   ]
  },
  {
   "cell_type": "code",
   "execution_count": null,
   "id": "8729e1b7-5f63-4be7-98c0-395ea59dda39",
   "metadata": {},
   "outputs": [],
   "source": []
  },
  {
   "cell_type": "code",
   "execution_count": null,
   "id": "617ff02c-5c1a-4e6e-8f47-8bb03b6eb7e8",
   "metadata": {},
   "outputs": [],
   "source": []
  },
  {
   "cell_type": "code",
   "execution_count": null,
   "id": "e64bd308-8bd2-480c-8003-ceb8bc849fee",
   "metadata": {},
   "outputs": [],
   "source": []
  },
  {
   "cell_type": "code",
   "execution_count": null,
   "id": "46a67e50-8814-4edc-8df2-bb283696e411",
   "metadata": {},
   "outputs": [],
   "source": []
  },
  {
   "cell_type": "code",
   "execution_count": null,
   "id": "ce90eaae-70d6-42c8-91bd-8c2567be8869",
   "metadata": {},
   "outputs": [],
   "source": []
  },
  {
   "cell_type": "code",
   "execution_count": null,
   "id": "2e05e985-5c01-4aa5-b560-eb0581fab9d9",
   "metadata": {},
   "outputs": [],
   "source": []
  },
  {
   "cell_type": "code",
   "execution_count": null,
   "id": "7de42131-497a-477a-87dc-973603022652",
   "metadata": {},
   "outputs": [],
   "source": []
  },
  {
   "cell_type": "code",
   "execution_count": null,
   "id": "9ba16e07-c5c7-4b08-90cc-2cad5a05991d",
   "metadata": {},
   "outputs": [],
   "source": []
  },
  {
   "cell_type": "code",
   "execution_count": null,
   "id": "60520b8f-1cc0-4ae4-a7c3-6d14467acc1b",
   "metadata": {},
   "outputs": [],
   "source": []
  },
  {
   "cell_type": "code",
   "execution_count": null,
   "id": "c3d61421-9eb9-413a-a6b1-a40060995e5b",
   "metadata": {},
   "outputs": [],
   "source": []
  }
 ],
 "metadata": {
  "kernelspec": {
   "display_name": "Python 3",
   "language": "python",
   "name": "python3"
  },
  "language_info": {
   "codemirror_mode": {
    "name": "ipython",
    "version": 3
   },
   "file_extension": ".py",
   "mimetype": "text/x-python",
   "name": "python",
   "nbconvert_exporter": "python",
   "pygments_lexer": "ipython3",
   "version": "3.8.8"
  }
 },
 "nbformat": 4,
 "nbformat_minor": 5
}
